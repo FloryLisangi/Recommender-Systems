{
 "cells": [
  {
   "cell_type": "markdown",
   "metadata": {},
   "source": [
    "<div id=\"container\" style=\"position:relative;\">\n",
    "<div style=\"float:left\"><h1> Recommender Systems </h1></div>\n",
    "<div style=\"position:relative; float:right\"><img style=\"height:65px\" src =\"https://drive.google.com/uc?export=view&id=1EnB0x-fdqMp6I5iMoEBBEuxB_s7AmE2k\" />\n",
    "</div>\n",
    "</div>"
   ]
  },
  {
   "cell_type": "code",
   "execution_count": 1,
   "metadata": {
    "colab": {},
    "colab_type": "code",
    "id": "Zph3Xuf2MpCv"
   },
   "outputs": [],
   "source": [
    "import pandas as pd\n",
    "import numpy as np\n",
    "import matplotlib.pyplot as plt"
   ]
  },
  {
   "cell_type": "markdown",
   "metadata": {
    "colab_type": "text",
    "id": "ka2AUUdBMpCt"
   },
   "source": [
     Recommender systems. At a high level, these systems aim to predict how a user feels about various items. We will focus on specific applications of these predictions, develop our own basic systems and see how to evaluate them."
   ]
  },
  {
   "cell_type": "markdown",
   "metadata": {
    "colab_type": "text",
    "id": "F3jbrfSFMpC2"
   },
   "source": [
    "### What are Recommender Systems\n",
    "\n",
    "Generally a recommender system provides a user with a list of options it thinks they would like to try. You probably see these systems every day on websites like Amazon or Spotify. These companies want you to continually use their service and make purchases from them, their income is highly dependent on providing recommendations you follow up on."
   ]
  },
  {
   "cell_type": "markdown",
   "metadata": {
    "colab_type": "text",
    "id": "ba77Xy9LMpC5"
   },
   "source": [
    "<img src = \"https://drive.google.com/uc?export=view&id=1TxpAHfLkp4PkVerZ0dRF3bySthWYQeKD\" width=80%>"
   ]
  },
  {
   "cell_type": "markdown",
   "metadata": {
    "colab_type": "text",
    "id": "cWp9-k3YMpC-"
   },
   "source": [
    "At its core, a recommender system contains information about many users and their ratings of certain items, and it tries to predict what kind of rating a user will give an item they have never seen before."
   ]
  },
  {
   "cell_type": "markdown",
   "metadata": {
    "colab_type": "text",
    "id": "l2GxrLAmMpC_"
   },
   "source": [
    "### Movie Rating System\n",
    "\n",
    "We're going to use a dataset of movies from the internet movie database, that is our system will recommend movies to a user. \n",
    "\n",
    "Let's load up some basic data to work with:"
   ]
  },
  {
   "cell_type": "code",
   "execution_count": 2,
   "metadata": {
    "colab": {},
    "colab_type": "code",
    "id": "tscVYsHxMpDD",
    "outputId": "1f316cae-437d-4aa4-c784-c600093f3d89"
   },
   "outputs": [
    {
     "name": "stderr",
     "output_type": "stream",
     "text": [
      "/Users/danielsoukup/anaconda3/envs/bigdata_ml/lib/python3.8/site-packages/IPython/core/interactiveshell.py:3441: DtypeWarning: Columns (10) have mixed types.Specify dtype option on import or set low_memory=False.\n",
      "  exec(code_obj, self.user_global_ns, self.user_ns)\n"
     ]
    },
    {
     "data": {
      "text/html": [
       "<div>\n",
       "<style scoped>\n",
       "    .dataframe tbody tr th:only-of-type {\n",
       "        vertical-align: middle;\n",
       "    }\n",
       "\n",
       "    .dataframe tbody tr th {\n",
       "        vertical-align: top;\n",
       "    }\n",
       "\n",
       "    .dataframe thead th {\n",
       "        text-align: right;\n",
       "    }\n",
       "</style>\n",
       "<table border=\"1\" class=\"dataframe\">\n",
       "  <thead>\n",
       "    <tr style=\"text-align: right;\">\n",
       "      <th></th>\n",
       "      <th>adult</th>\n",
       "      <th>belongs_to_collection</th>\n",
       "      <th>budget</th>\n",
       "      <th>genres</th>\n",
       "      <th>homepage</th>\n",
       "      <th>id</th>\n",
       "      <th>imdb_id</th>\n",
       "      <th>original_language</th>\n",
       "      <th>original_title</th>\n",
       "      <th>overview</th>\n",
       "      <th>...</th>\n",
       "      <th>release_date</th>\n",
       "      <th>revenue</th>\n",
       "      <th>runtime</th>\n",
       "      <th>spoken_languages</th>\n",
       "      <th>status</th>\n",
       "      <th>tagline</th>\n",
       "      <th>title</th>\n",
       "      <th>video</th>\n",
       "      <th>vote_average</th>\n",
       "      <th>vote_count</th>\n",
       "    </tr>\n",
       "  </thead>\n",
       "  <tbody>\n",
       "    <tr>\n",
       "      <th>0</th>\n",
       "      <td>False</td>\n",
       "      <td>{'id': 10194, 'name': 'Toy Story Collection', ...</td>\n",
       "      <td>30000000</td>\n",
       "      <td>[{'id': 16, 'name': 'Animation'}, {'id': 35, '...</td>\n",
       "      <td>http://toystory.disney.com/toy-story</td>\n",
       "      <td>862</td>\n",
       "      <td>tt0114709</td>\n",
       "      <td>en</td>\n",
       "      <td>Toy Story</td>\n",
       "      <td>Led by Woody, Andy's toys live happily in his ...</td>\n",
       "      <td>...</td>\n",
       "      <td>1995-10-30</td>\n",
       "      <td>373554033.0</td>\n",
       "      <td>81.0</td>\n",
       "      <td>[{'iso_639_1': 'en', 'name': 'English'}]</td>\n",
       "      <td>Released</td>\n",
       "      <td>NaN</td>\n",
       "      <td>Toy Story</td>\n",
       "      <td>False</td>\n",
       "      <td>7.7</td>\n",
       "      <td>5415.0</td>\n",
       "    </tr>\n",
       "    <tr>\n",
       "      <th>1</th>\n",
       "      <td>False</td>\n",
       "      <td>NaN</td>\n",
       "      <td>65000000</td>\n",
       "      <td>[{'id': 12, 'name': 'Adventure'}, {'id': 14, '...</td>\n",
       "      <td>NaN</td>\n",
       "      <td>8844</td>\n",
       "      <td>tt0113497</td>\n",
       "      <td>en</td>\n",
       "      <td>Jumanji</td>\n",
       "      <td>When siblings Judy and Peter discover an encha...</td>\n",
       "      <td>...</td>\n",
       "      <td>1995-12-15</td>\n",
       "      <td>262797249.0</td>\n",
       "      <td>104.0</td>\n",
       "      <td>[{'iso_639_1': 'en', 'name': 'English'}, {'iso...</td>\n",
       "      <td>Released</td>\n",
       "      <td>Roll the dice and unleash the excitement!</td>\n",
       "      <td>Jumanji</td>\n",
       "      <td>False</td>\n",
       "      <td>6.9</td>\n",
       "      <td>2413.0</td>\n",
       "    </tr>\n",
       "    <tr>\n",
       "      <th>2</th>\n",
       "      <td>False</td>\n",
       "      <td>{'id': 119050, 'name': 'Grumpy Old Men Collect...</td>\n",
       "      <td>0</td>\n",
       "      <td>[{'id': 10749, 'name': 'Romance'}, {'id': 35, ...</td>\n",
       "      <td>NaN</td>\n",
       "      <td>15602</td>\n",
       "      <td>tt0113228</td>\n",
       "      <td>en</td>\n",
       "      <td>Grumpier Old Men</td>\n",
       "      <td>A family wedding reignites the ancient feud be...</td>\n",
       "      <td>...</td>\n",
       "      <td>1995-12-22</td>\n",
       "      <td>0.0</td>\n",
       "      <td>101.0</td>\n",
       "      <td>[{'iso_639_1': 'en', 'name': 'English'}]</td>\n",
       "      <td>Released</td>\n",
       "      <td>Still Yelling. Still Fighting. Still Ready for...</td>\n",
       "      <td>Grumpier Old Men</td>\n",
       "      <td>False</td>\n",
       "      <td>6.5</td>\n",
       "      <td>92.0</td>\n",
       "    </tr>\n",
       "    <tr>\n",
       "      <th>3</th>\n",
       "      <td>False</td>\n",
       "      <td>NaN</td>\n",
       "      <td>16000000</td>\n",
       "      <td>[{'id': 35, 'name': 'Comedy'}, {'id': 18, 'nam...</td>\n",
       "      <td>NaN</td>\n",
       "      <td>31357</td>\n",
       "      <td>tt0114885</td>\n",
       "      <td>en</td>\n",
       "      <td>Waiting to Exhale</td>\n",
       "      <td>Cheated on, mistreated and stepped on, the wom...</td>\n",
       "      <td>...</td>\n",
       "      <td>1995-12-22</td>\n",
       "      <td>81452156.0</td>\n",
       "      <td>127.0</td>\n",
       "      <td>[{'iso_639_1': 'en', 'name': 'English'}]</td>\n",
       "      <td>Released</td>\n",
       "      <td>Friends are the people who let you be yourself...</td>\n",
       "      <td>Waiting to Exhale</td>\n",
       "      <td>False</td>\n",
       "      <td>6.1</td>\n",
       "      <td>34.0</td>\n",
       "    </tr>\n",
       "    <tr>\n",
       "      <th>4</th>\n",
       "      <td>False</td>\n",
       "      <td>{'id': 96871, 'name': 'Father of the Bride Col...</td>\n",
       "      <td>0</td>\n",
       "      <td>[{'id': 35, 'name': 'Comedy'}]</td>\n",
       "      <td>NaN</td>\n",
       "      <td>11862</td>\n",
       "      <td>tt0113041</td>\n",
       "      <td>en</td>\n",
       "      <td>Father of the Bride Part II</td>\n",
       "      <td>Just when George Banks has recovered from his ...</td>\n",
       "      <td>...</td>\n",
       "      <td>1995-02-10</td>\n",
       "      <td>76578911.0</td>\n",
       "      <td>106.0</td>\n",
       "      <td>[{'iso_639_1': 'en', 'name': 'English'}]</td>\n",
       "      <td>Released</td>\n",
       "      <td>Just When His World Is Back To Normal... He's ...</td>\n",
       "      <td>Father of the Bride Part II</td>\n",
       "      <td>False</td>\n",
       "      <td>5.7</td>\n",
       "      <td>173.0</td>\n",
       "    </tr>\n",
       "  </tbody>\n",
       "</table>\n",
       "<p>5 rows × 24 columns</p>\n",
       "</div>"
      ],
      "text/plain": [
       "   adult                              belongs_to_collection    budget  \\\n",
       "0  False  {'id': 10194, 'name': 'Toy Story Collection', ...  30000000   \n",
       "1  False                                                NaN  65000000   \n",
       "2  False  {'id': 119050, 'name': 'Grumpy Old Men Collect...         0   \n",
       "3  False                                                NaN  16000000   \n",
       "4  False  {'id': 96871, 'name': 'Father of the Bride Col...         0   \n",
       "\n",
       "                                              genres  \\\n",
       "0  [{'id': 16, 'name': 'Animation'}, {'id': 35, '...   \n",
       "1  [{'id': 12, 'name': 'Adventure'}, {'id': 14, '...   \n",
       "2  [{'id': 10749, 'name': 'Romance'}, {'id': 35, ...   \n",
       "3  [{'id': 35, 'name': 'Comedy'}, {'id': 18, 'nam...   \n",
       "4                     [{'id': 35, 'name': 'Comedy'}]   \n",
       "\n",
       "                               homepage     id    imdb_id original_language  \\\n",
       "0  http://toystory.disney.com/toy-story    862  tt0114709                en   \n",
       "1                                   NaN   8844  tt0113497                en   \n",
       "2                                   NaN  15602  tt0113228                en   \n",
       "3                                   NaN  31357  tt0114885                en   \n",
       "4                                   NaN  11862  tt0113041                en   \n",
       "\n",
       "                original_title  \\\n",
       "0                    Toy Story   \n",
       "1                      Jumanji   \n",
       "2             Grumpier Old Men   \n",
       "3            Waiting to Exhale   \n",
       "4  Father of the Bride Part II   \n",
       "\n",
       "                                            overview  ... release_date  \\\n",
       "0  Led by Woody, Andy's toys live happily in his ...  ...   1995-10-30   \n",
       "1  When siblings Judy and Peter discover an encha...  ...   1995-12-15   \n",
       "2  A family wedding reignites the ancient feud be...  ...   1995-12-22   \n",
       "3  Cheated on, mistreated and stepped on, the wom...  ...   1995-12-22   \n",
       "4  Just when George Banks has recovered from his ...  ...   1995-02-10   \n",
       "\n",
       "       revenue runtime                                   spoken_languages  \\\n",
       "0  373554033.0    81.0           [{'iso_639_1': 'en', 'name': 'English'}]   \n",
       "1  262797249.0   104.0  [{'iso_639_1': 'en', 'name': 'English'}, {'iso...   \n",
       "2          0.0   101.0           [{'iso_639_1': 'en', 'name': 'English'}]   \n",
       "3   81452156.0   127.0           [{'iso_639_1': 'en', 'name': 'English'}]   \n",
       "4   76578911.0   106.0           [{'iso_639_1': 'en', 'name': 'English'}]   \n",
       "\n",
       "     status                                            tagline  \\\n",
       "0  Released                                                NaN   \n",
       "1  Released          Roll the dice and unleash the excitement!   \n",
       "2  Released  Still Yelling. Still Fighting. Still Ready for...   \n",
       "3  Released  Friends are the people who let you be yourself...   \n",
       "4  Released  Just When His World Is Back To Normal... He's ...   \n",
       "\n",
       "                         title  video vote_average vote_count  \n",
       "0                    Toy Story  False          7.7     5415.0  \n",
       "1                      Jumanji  False          6.9     2413.0  \n",
       "2             Grumpier Old Men  False          6.5       92.0  \n",
       "3            Waiting to Exhale  False          6.1       34.0  \n",
       "4  Father of the Bride Part II  False          5.7      173.0  \n",
       "\n",
       "[5 rows x 24 columns]"
      ]
     },
     "execution_count": 2,
     "metadata": {},
     "output_type": "execute_result"
    }
   ],
   "source": [
    "movie_df = pd.read_csv('data/movies_metadata.csv')\n",
    "movie_df.drop_duplicates(subset=['title'], inplace=True)\n",
    "movie_df = movie_df.reset_index().drop('index', axis=1)\n",
    "movie_df.head()"
   ]
  },
  {
   "cell_type": "code",
   "execution_count": 3,
   "metadata": {},
   "outputs": [
    {
     "data": {
      "text/html": [
       "<div>\n",
       "<style scoped>\n",
       "    .dataframe tbody tr th:only-of-type {\n",
       "        vertical-align: middle;\n",
       "    }\n",
       "\n",
       "    .dataframe tbody tr th {\n",
       "        vertical-align: top;\n",
       "    }\n",
       "\n",
       "    .dataframe thead th {\n",
       "        text-align: right;\n",
       "    }\n",
       "</style>\n",
       "<table border=\"1\" class=\"dataframe\">\n",
       "  <thead>\n",
       "    <tr style=\"text-align: right;\">\n",
       "      <th></th>\n",
       "      <th>id</th>\n",
       "      <th>title</th>\n",
       "      <th>overview</th>\n",
       "      <th>vote_average</th>\n",
       "      <th>vote_count</th>\n",
       "    </tr>\n",
       "  </thead>\n",
       "  <tbody>\n",
       "    <tr>\n",
       "      <th>0</th>\n",
       "      <td>862</td>\n",
       "      <td>Toy Story</td>\n",
       "      <td>Led by Woody, Andy's toys live happily in his ...</td>\n",
       "      <td>7.7</td>\n",
       "      <td>5415.0</td>\n",
       "    </tr>\n",
       "    <tr>\n",
       "      <th>1</th>\n",
       "      <td>8844</td>\n",
       "      <td>Jumanji</td>\n",
       "      <td>When siblings Judy and Peter discover an encha...</td>\n",
       "      <td>6.9</td>\n",
       "      <td>2413.0</td>\n",
       "    </tr>\n",
       "    <tr>\n",
       "      <th>2</th>\n",
       "      <td>15602</td>\n",
       "      <td>Grumpier Old Men</td>\n",
       "      <td>A family wedding reignites the ancient feud be...</td>\n",
       "      <td>6.5</td>\n",
       "      <td>92.0</td>\n",
       "    </tr>\n",
       "    <tr>\n",
       "      <th>3</th>\n",
       "      <td>31357</td>\n",
       "      <td>Waiting to Exhale</td>\n",
       "      <td>Cheated on, mistreated and stepped on, the wom...</td>\n",
       "      <td>6.1</td>\n",
       "      <td>34.0</td>\n",
       "    </tr>\n",
       "    <tr>\n",
       "      <th>4</th>\n",
       "      <td>11862</td>\n",
       "      <td>Father of the Bride Part II</td>\n",
       "      <td>Just when George Banks has recovered from his ...</td>\n",
       "      <td>5.7</td>\n",
       "      <td>173.0</td>\n",
       "    </tr>\n",
       "  </tbody>\n",
       "</table>\n",
       "</div>"
      ],
      "text/plain": [
       "      id                        title  \\\n",
       "0    862                    Toy Story   \n",
       "1   8844                      Jumanji   \n",
       "2  15602             Grumpier Old Men   \n",
       "3  31357            Waiting to Exhale   \n",
       "4  11862  Father of the Bride Part II   \n",
       "\n",
       "                                            overview  vote_average  vote_count  \n",
       "0  Led by Woody, Andy's toys live happily in his ...           7.7      5415.0  \n",
       "1  When siblings Judy and Peter discover an encha...           6.9      2413.0  \n",
       "2  A family wedding reignites the ancient feud be...           6.5        92.0  \n",
       "3  Cheated on, mistreated and stepped on, the wom...           6.1        34.0  \n",
       "4  Just when George Banks has recovered from his ...           5.7       173.0  "
      ]
     },
     "execution_count": 3,
     "metadata": {},
     "output_type": "execute_result"
    }
   ],
   "source": [
    "movie_df = movie_df[['id', 'title', 'overview', 'vote_average', 'vote_count']]\n",
    "movie_df.head()"
   ]
  },
  {
   "cell_type": "code",
   "execution_count": 4,
   "metadata": {},
   "outputs": [
    {
     "data": {
      "text/plain": [
       "(42278, 5)"
      ]
     },
     "execution_count": 4,
     "metadata": {},
     "output_type": "execute_result"
    }
   ],
   "source": [
    "movie_df.shape"
   ]
  },
  {
   "cell_type": "markdown",
   "metadata": {
    "colab_type": "text",
    "id": "Bwywil4RMpDL"
   },
   "source": [
    "### A User Independent System\n",
    "\n",
    "We'll start with building recommendations for the case where we have no knowledge about a user. In this case, we probably would find the most popular items, and recommend them to our user.\n",
    "\n",
    "The simplest system would just sort the items based on their average score and present a list in that order:"
   ]
  },
  {
   "cell_type": "code",
   "execution_count": 5,
   "metadata": {
    "colab": {},
    "colab_type": "code",
    "id": "o0zsn208MpDN",
    "outputId": "21eab0f6-0399-4073-ad71-da2ece3c384a"
   },
   "outputs": [
    {
     "data": {
      "text/plain": [
       "40390                          Jedi Junior High\n",
       "30753                         OMG, I'm a Robot!\n",
       "36536                             Truckfighters\n",
       "34225                                    Avetik\n",
       "28951         Mortal Kombat: The Journey Begins\n",
       "8704     Common Threads: Stories from the Quilt\n",
       "29183                                 Time Pass\n",
       "29339                   The Mother Of Invention\n",
       "34224                                  Acéphale\n",
       "29771                       The Kreutzer Sonata\n",
       "Name: title, dtype: object"
      ]
     },
     "execution_count": 5,
     "metadata": {},
     "output_type": "execute_result"
    }
   ],
   "source": [
    "top_rated = movie_df.sort_values(by=['vote_average'], ascending=False)\n",
    "top_rated['title'].head(10)"
   ]
  },
  {
   "cell_type": "markdown",
   "metadata": {
    "colab_type": "text",
    "id": "5tcNJekqMpDT"
   },
   "source": [
    "Those results seem a bit interesting... Let's look at the top few items in more detail:"
   ]
  },
  {
   "cell_type": "code",
   "execution_count": 6,
   "metadata": {
    "colab": {},
    "colab_type": "code",
    "id": "BQXuCQVzMpDU",
    "outputId": "8c07ac90-828b-4a85-d5a4-159b5beb9536"
   },
   "outputs": [
    {
     "data": {
      "text/html": [
       "<div>\n",
       "<style scoped>\n",
       "    .dataframe tbody tr th:only-of-type {\n",
       "        vertical-align: middle;\n",
       "    }\n",
       "\n",
       "    .dataframe tbody tr th {\n",
       "        vertical-align: top;\n",
       "    }\n",
       "\n",
       "    .dataframe thead th {\n",
       "        text-align: right;\n",
       "    }\n",
       "</style>\n",
       "<table border=\"1\" class=\"dataframe\">\n",
       "  <thead>\n",
       "    <tr style=\"text-align: right;\">\n",
       "      <th></th>\n",
       "      <th>id</th>\n",
       "      <th>title</th>\n",
       "      <th>overview</th>\n",
       "      <th>vote_average</th>\n",
       "      <th>vote_count</th>\n",
       "    </tr>\n",
       "  </thead>\n",
       "  <tbody>\n",
       "    <tr>\n",
       "      <th>40390</th>\n",
       "      <td>426224</td>\n",
       "      <td>Jedi Junior High</td>\n",
       "      <td>In 2009, students of all walks of life at the ...</td>\n",
       "      <td>10.0</td>\n",
       "      <td>1.0</td>\n",
       "    </tr>\n",
       "    <tr>\n",
       "      <th>30753</th>\n",
       "      <td>347328</td>\n",
       "      <td>OMG, I'm a Robot!</td>\n",
       "      <td>A sensitive guy finds out he's... a robot.</td>\n",
       "      <td>10.0</td>\n",
       "      <td>1.0</td>\n",
       "    </tr>\n",
       "    <tr>\n",
       "      <th>36536</th>\n",
       "      <td>206657</td>\n",
       "      <td>Truckfighters</td>\n",
       "      <td>Three down-to-earth guys, record songs and rea...</td>\n",
       "      <td>10.0</td>\n",
       "      <td>1.0</td>\n",
       "    </tr>\n",
       "    <tr>\n",
       "      <th>34225</th>\n",
       "      <td>237422</td>\n",
       "      <td>Avetik</td>\n",
       "      <td>Hovering between the realms of poetry and hist...</td>\n",
       "      <td>10.0</td>\n",
       "      <td>3.0</td>\n",
       "    </tr>\n",
       "    <tr>\n",
       "      <th>28951</th>\n",
       "      <td>72886</td>\n",
       "      <td>Mortal Kombat: The Journey Begins</td>\n",
       "      <td>The heroes from the hard-hitting MORTAL KOMBAT...</td>\n",
       "      <td>10.0</td>\n",
       "      <td>1.0</td>\n",
       "    </tr>\n",
       "    <tr>\n",
       "      <th>8704</th>\n",
       "      <td>114524</td>\n",
       "      <td>Common Threads: Stories from the Quilt</td>\n",
       "      <td>In the late 1970s, a mysterious new disease be...</td>\n",
       "      <td>10.0</td>\n",
       "      <td>2.0</td>\n",
       "    </tr>\n",
       "    <tr>\n",
       "      <th>29183</th>\n",
       "      <td>249677</td>\n",
       "      <td>Time Pass</td>\n",
       "      <td>When Cupid strikes the very first time it sees...</td>\n",
       "      <td>10.0</td>\n",
       "      <td>1.0</td>\n",
       "    </tr>\n",
       "    <tr>\n",
       "      <th>29339</th>\n",
       "      <td>140489</td>\n",
       "      <td>The Mother Of Invention</td>\n",
       "      <td>A mockumentary about an aspiring inventor who ...</td>\n",
       "      <td>10.0</td>\n",
       "      <td>1.0</td>\n",
       "    </tr>\n",
       "    <tr>\n",
       "      <th>34224</th>\n",
       "      <td>243416</td>\n",
       "      <td>Acéphale</td>\n",
       "      <td>In common with other Zanzibar films, Patrick D...</td>\n",
       "      <td>10.0</td>\n",
       "      <td>1.0</td>\n",
       "    </tr>\n",
       "    <tr>\n",
       "      <th>29771</th>\n",
       "      <td>53315</td>\n",
       "      <td>The Kreutzer Sonata</td>\n",
       "      <td>A film by Bernard Rose, based on the novel by ...</td>\n",
       "      <td>10.0</td>\n",
       "      <td>1.0</td>\n",
       "    </tr>\n",
       "  </tbody>\n",
       "</table>\n",
       "</div>"
      ],
      "text/plain": [
       "           id                                   title  \\\n",
       "40390  426224                        Jedi Junior High   \n",
       "30753  347328                       OMG, I'm a Robot!   \n",
       "36536  206657                           Truckfighters   \n",
       "34225  237422                                  Avetik   \n",
       "28951   72886       Mortal Kombat: The Journey Begins   \n",
       "8704   114524  Common Threads: Stories from the Quilt   \n",
       "29183  249677                               Time Pass   \n",
       "29339  140489                 The Mother Of Invention   \n",
       "34224  243416                                Acéphale   \n",
       "29771   53315                     The Kreutzer Sonata   \n",
       "\n",
       "                                                overview  vote_average  \\\n",
       "40390  In 2009, students of all walks of life at the ...          10.0   \n",
       "30753         A sensitive guy finds out he's... a robot.          10.0   \n",
       "36536  Three down-to-earth guys, record songs and rea...          10.0   \n",
       "34225  Hovering between the realms of poetry and hist...          10.0   \n",
       "28951  The heroes from the hard-hitting MORTAL KOMBAT...          10.0   \n",
       "8704   In the late 1970s, a mysterious new disease be...          10.0   \n",
       "29183  When Cupid strikes the very first time it sees...          10.0   \n",
       "29339  A mockumentary about an aspiring inventor who ...          10.0   \n",
       "34224  In common with other Zanzibar films, Patrick D...          10.0   \n",
       "29771  A film by Bernard Rose, based on the novel by ...          10.0   \n",
       "\n",
       "       vote_count  \n",
       "40390         1.0  \n",
       "30753         1.0  \n",
       "36536         1.0  \n",
       "34225         3.0  \n",
       "28951         1.0  \n",
       "8704          2.0  \n",
       "29183         1.0  \n",
       "29339         1.0  \n",
       "34224         1.0  \n",
       "29771         1.0  "
      ]
     },
     "execution_count": 6,
     "metadata": {},
     "output_type": "execute_result"
    }
   ],
   "source": [
    "top_rated.head(10)"
   ]
  },
  {
   "cell_type": "markdown",
   "metadata": {
    "colab_type": "text",
    "id": "VhwBmk7oMpDZ"
   },
   "source": [
    "There's a big issue with this system, the top ranked items have a perfect average score but only one review. Let's look at a movie which is generally considered highly rated:"
   ]
  },
  {
   "cell_type": "code",
   "execution_count": 7,
   "metadata": {
    "colab": {},
    "colab_type": "code",
    "id": "Ot6ZG_a3MpDa",
    "outputId": "15d6af61-d1cd-4d06-e152-33b720bd7f45"
   },
   "outputs": [
    {
     "data": {
      "text/html": [
       "<div>\n",
       "<style scoped>\n",
       "    .dataframe tbody tr th:only-of-type {\n",
       "        vertical-align: middle;\n",
       "    }\n",
       "\n",
       "    .dataframe tbody tr th {\n",
       "        vertical-align: top;\n",
       "    }\n",
       "\n",
       "    .dataframe thead th {\n",
       "        text-align: right;\n",
       "    }\n",
       "</style>\n",
       "<table border=\"1\" class=\"dataframe\">\n",
       "  <thead>\n",
       "    <tr style=\"text-align: right;\">\n",
       "      <th></th>\n",
       "      <th>id</th>\n",
       "      <th>title</th>\n",
       "      <th>overview</th>\n",
       "      <th>vote_average</th>\n",
       "      <th>vote_count</th>\n",
       "    </tr>\n",
       "  </thead>\n",
       "  <tbody>\n",
       "    <tr>\n",
       "      <th>895</th>\n",
       "      <td>15</td>\n",
       "      <td>Citizen Kane</td>\n",
       "      <td>Newspaper magnate, Charles Foster Kane is take...</td>\n",
       "      <td>8.0</td>\n",
       "      <td>1244.0</td>\n",
       "    </tr>\n",
       "  </tbody>\n",
       "</table>\n",
       "</div>"
      ],
      "text/plain": [
       "     id         title                                           overview  \\\n",
       "895  15  Citizen Kane  Newspaper magnate, Charles Foster Kane is take...   \n",
       "\n",
       "     vote_average  vote_count  \n",
       "895           8.0      1244.0  "
      ]
     },
     "execution_count": 7,
     "metadata": {},
     "output_type": "execute_result"
    }
   ],
   "source": [
    "top_rated[top_rated['title'] == \"Citizen Kane\"]"
   ]
  },
  {
   "cell_type": "markdown",
   "metadata": {
    "colab_type": "text",
    "id": "pvaf6SsLMpDf"
   },
   "source": [
    "Citizen Kane, which many consider the greatest movie ever made, only has a score of $8.0$ but it has over $1200$ reviews. The problem is a more esoteric movie which is only known of by a very narrow audience is likely to have a few extremely positive reviews. But this is probably something we wouldn't want to push to the top of a movie recommendation list!\n",
    "\n",
    "One way to deal with items with few reviews is to simply ignore them. This is known as thresholding, we set some threshold for required reviews, we simply ignore items with too few reviews. If we were to implement this with our data set:"
   ]
  },
  {
   "cell_type": "code",
   "execution_count": 8,
   "metadata": {
    "colab": {},
    "colab_type": "code",
    "id": "nAxLhAt0MpDh",
    "outputId": "3fe4b3ed-eb79-4419-b9ef-9f506da6544e"
   },
   "outputs": [
    {
     "data": {
      "text/html": [
       "<div>\n",
       "<style scoped>\n",
       "    .dataframe tbody tr th:only-of-type {\n",
       "        vertical-align: middle;\n",
       "    }\n",
       "\n",
       "    .dataframe tbody tr th {\n",
       "        vertical-align: top;\n",
       "    }\n",
       "\n",
       "    .dataframe thead th {\n",
       "        text-align: right;\n",
       "    }\n",
       "</style>\n",
       "<table border=\"1\" class=\"dataframe\">\n",
       "  <thead>\n",
       "    <tr style=\"text-align: right;\">\n",
       "      <th></th>\n",
       "      <th>id</th>\n",
       "      <th>title</th>\n",
       "      <th>overview</th>\n",
       "      <th>vote_average</th>\n",
       "      <th>vote_count</th>\n",
       "    </tr>\n",
       "  </thead>\n",
       "  <tbody>\n",
       "    <tr>\n",
       "      <th>834</th>\n",
       "      <td>238</td>\n",
       "      <td>The Godfather</td>\n",
       "      <td>Spanning the years 1945 to 1955, a chronicle o...</td>\n",
       "      <td>8.5</td>\n",
       "      <td>6024.0</td>\n",
       "    </tr>\n",
       "    <tr>\n",
       "      <th>314</th>\n",
       "      <td>278</td>\n",
       "      <td>The Shawshank Redemption</td>\n",
       "      <td>Framed in the 1940s for the double murder of h...</td>\n",
       "      <td>8.5</td>\n",
       "      <td>8358.0</td>\n",
       "    </tr>\n",
       "    <tr>\n",
       "      <th>37533</th>\n",
       "      <td>372058</td>\n",
       "      <td>Your Name.</td>\n",
       "      <td>High schoolers Mitsuha and Taki are complete s...</td>\n",
       "      <td>8.5</td>\n",
       "      <td>1030.0</td>\n",
       "    </tr>\n",
       "    <tr>\n",
       "      <th>1150</th>\n",
       "      <td>510</td>\n",
       "      <td>One Flew Over the Cuckoo's Nest</td>\n",
       "      <td>While serving time for insanity at a state men...</td>\n",
       "      <td>8.3</td>\n",
       "      <td>3001.0</td>\n",
       "    </tr>\n",
       "    <tr>\n",
       "      <th>2814</th>\n",
       "      <td>550</td>\n",
       "      <td>Fight Club</td>\n",
       "      <td>A ticking-time-bomb insomniac and a slippery s...</td>\n",
       "      <td>8.3</td>\n",
       "      <td>9678.0</td>\n",
       "    </tr>\n",
       "    <tr>\n",
       "      <th>1174</th>\n",
       "      <td>539</td>\n",
       "      <td>Psycho</td>\n",
       "      <td>When larcenous real estate clerk Marion Crane ...</td>\n",
       "      <td>8.3</td>\n",
       "      <td>2405.0</td>\n",
       "    </tr>\n",
       "    <tr>\n",
       "      <th>1176</th>\n",
       "      <td>240</td>\n",
       "      <td>The Godfather: Part II</td>\n",
       "      <td>In the continuing saga of the Corleone crime f...</td>\n",
       "      <td>8.3</td>\n",
       "      <td>3418.0</td>\n",
       "    </tr>\n",
       "    <tr>\n",
       "      <th>1182</th>\n",
       "      <td>311</td>\n",
       "      <td>Once Upon a Time in America</td>\n",
       "      <td>A former Prohibition-era Jewish gangster retur...</td>\n",
       "      <td>8.3</td>\n",
       "      <td>1104.0</td>\n",
       "    </tr>\n",
       "    <tr>\n",
       "      <th>292</th>\n",
       "      <td>680</td>\n",
       "      <td>Pulp Fiction</td>\n",
       "      <td>A burger-loving hit man, his philosophical par...</td>\n",
       "      <td>8.3</td>\n",
       "      <td>8670.0</td>\n",
       "    </tr>\n",
       "    <tr>\n",
       "      <th>522</th>\n",
       "      <td>424</td>\n",
       "      <td>Schindler's List</td>\n",
       "      <td>The true story of how businessman Oskar Schind...</td>\n",
       "      <td>8.3</td>\n",
       "      <td>4436.0</td>\n",
       "    </tr>\n",
       "  </tbody>\n",
       "</table>\n",
       "</div>"
      ],
      "text/plain": [
       "           id                            title  \\\n",
       "834       238                    The Godfather   \n",
       "314       278         The Shawshank Redemption   \n",
       "37533  372058                       Your Name.   \n",
       "1150      510  One Flew Over the Cuckoo's Nest   \n",
       "2814      550                       Fight Club   \n",
       "1174      539                           Psycho   \n",
       "1176      240           The Godfather: Part II   \n",
       "1182      311      Once Upon a Time in America   \n",
       "292       680                     Pulp Fiction   \n",
       "522       424                 Schindler's List   \n",
       "\n",
       "                                                overview  vote_average  \\\n",
       "834    Spanning the years 1945 to 1955, a chronicle o...           8.5   \n",
       "314    Framed in the 1940s for the double murder of h...           8.5   \n",
       "37533  High schoolers Mitsuha and Taki are complete s...           8.5   \n",
       "1150   While serving time for insanity at a state men...           8.3   \n",
       "2814   A ticking-time-bomb insomniac and a slippery s...           8.3   \n",
       "1174   When larcenous real estate clerk Marion Crane ...           8.3   \n",
       "1176   In the continuing saga of the Corleone crime f...           8.3   \n",
       "1182   A former Prohibition-era Jewish gangster retur...           8.3   \n",
       "292    A burger-loving hit man, his philosophical par...           8.3   \n",
       "522    The true story of how businessman Oskar Schind...           8.3   \n",
       "\n",
       "       vote_count  \n",
       "834        6024.0  \n",
       "314        8358.0  \n",
       "37533      1030.0  \n",
       "1150       3001.0  \n",
       "2814       9678.0  \n",
       "1174       2405.0  \n",
       "1176       3418.0  \n",
       "1182       1104.0  \n",
       "292        8670.0  \n",
       "522        4436.0  "
      ]
     },
     "execution_count": 8,
     "metadata": {},
     "output_type": "execute_result"
    }
   ],
   "source": [
    "threshold = 1000\n",
    "movies_with_many_reviews_df = movie_df[movie_df['vote_count'] >= threshold]\n",
    "\n",
    "top_rated_v2 = movies_with_many_reviews_df.sort_values(by=['vote_average'], ascending=False)\n",
    "top_rated_v2.head(10)"
   ]
  },
  {
   "cell_type": "markdown",
   "metadata": {
    "colab_type": "text",
    "id": "MPNE2dw_MpDp"
   },
   "source": [
    "We see the recommendations have significantly changed. While this is a nice fix there are two major issues:\n",
    "\n",
    "1. We selected the threshold in an arbitrary fashion, it seems like a reasonable number, but we kind of just made it up.\n",
    "2. If an item must meet a threshold to appear in a recommended list but it never appears in a list not many people will watch it. That is it will have a hard time getting the reviews it needs. \n",
    "\n",
    "The first issue can be difficult to deal with, but we can perform user studies and see what is a reasonable threshold. For the second issue one possible fix is to occasionally ignore the threshold requirements for new items, this allows them to build up some initial reviews."
   ]
  },
  {
   "cell_type": "markdown",
   "metadata": {},
   "source": [
    "#### User-independent System Review\n",
    "\n",
    "When we have no information about a user or their preferences, we can just show them the most popular movies given some review threshold. For new movies, we can sometimes show them to users and ignore the thresholding.\n",
    "\n",
    "---------"
   ]
  },
  {
   "cell_type": "markdown",
   "metadata": {
    "colab_type": "text",
    "id": "6SwytJSxMpDr"
   },
   "source": [
    "### Content Based Recommendations\n",
    "\n",
    "What if we know something about our user? For example, we know they like Iron Man movies. Then we can employ content-based recommendations.\n",
    "\n",
    "These recommendation engines are built around the idea if a user likes some item (or a particular basket of items) then they will like similar items based on the item content/description. If I watched the Avengers, then I probably would want to watch other superhero-themed movies. If we look at a few movies along with their descriptions:"
   ]
  },
  {
   "cell_type": "code",
   "execution_count": 9,
   "metadata": {
    "colab": {},
    "colab_type": "code",
    "id": "PKdqLIr-MpDx",
    "outputId": "a9251970-4ddf-4543-c70c-2df48cc6a78f"
   },
   "outputs": [
    {
     "data": {
      "text/html": [
       "<div>\n",
       "<style scoped>\n",
       "    .dataframe tbody tr th:only-of-type {\n",
       "        vertical-align: middle;\n",
       "    }\n",
       "\n",
       "    .dataframe tbody tr th {\n",
       "        vertical-align: top;\n",
       "    }\n",
       "\n",
       "    .dataframe thead th {\n",
       "        text-align: right;\n",
       "    }\n",
       "</style>\n",
       "<table border=\"1\" class=\"dataframe\">\n",
       "  <thead>\n",
       "    <tr style=\"text-align: right;\">\n",
       "      <th></th>\n",
       "      <th>title</th>\n",
       "      <th>overview</th>\n",
       "    </tr>\n",
       "  </thead>\n",
       "  <tbody>\n",
       "    <tr>\n",
       "      <th>0</th>\n",
       "      <td>Toy Story</td>\n",
       "      <td>Led by Woody, Andy's toys live happily in his ...</td>\n",
       "    </tr>\n",
       "    <tr>\n",
       "      <th>1</th>\n",
       "      <td>Jumanji</td>\n",
       "      <td>When siblings Judy and Peter discover an encha...</td>\n",
       "    </tr>\n",
       "    <tr>\n",
       "      <th>2</th>\n",
       "      <td>Grumpier Old Men</td>\n",
       "      <td>A family wedding reignites the ancient feud be...</td>\n",
       "    </tr>\n",
       "    <tr>\n",
       "      <th>3</th>\n",
       "      <td>Waiting to Exhale</td>\n",
       "      <td>Cheated on, mistreated and stepped on, the wom...</td>\n",
       "    </tr>\n",
       "    <tr>\n",
       "      <th>4</th>\n",
       "      <td>Father of the Bride Part II</td>\n",
       "      <td>Just when George Banks has recovered from his ...</td>\n",
       "    </tr>\n",
       "    <tr>\n",
       "      <th>5</th>\n",
       "      <td>Heat</td>\n",
       "      <td>Obsessive master thief, Neil McCauley leads a ...</td>\n",
       "    </tr>\n",
       "    <tr>\n",
       "      <th>6</th>\n",
       "      <td>Sabrina</td>\n",
       "      <td>An ugly duckling having undergone a remarkable...</td>\n",
       "    </tr>\n",
       "    <tr>\n",
       "      <th>7</th>\n",
       "      <td>Tom and Huck</td>\n",
       "      <td>A mischievous young boy, Tom Sawyer, witnesses...</td>\n",
       "    </tr>\n",
       "    <tr>\n",
       "      <th>8</th>\n",
       "      <td>Sudden Death</td>\n",
       "      <td>International action superstar Jean Claude Van...</td>\n",
       "    </tr>\n",
       "    <tr>\n",
       "      <th>9</th>\n",
       "      <td>GoldenEye</td>\n",
       "      <td>James Bond must unmask the mysterious head of ...</td>\n",
       "    </tr>\n",
       "  </tbody>\n",
       "</table>\n",
       "</div>"
      ],
      "text/plain": [
       "                         title  \\\n",
       "0                    Toy Story   \n",
       "1                      Jumanji   \n",
       "2             Grumpier Old Men   \n",
       "3            Waiting to Exhale   \n",
       "4  Father of the Bride Part II   \n",
       "5                         Heat   \n",
       "6                      Sabrina   \n",
       "7                 Tom and Huck   \n",
       "8                 Sudden Death   \n",
       "9                    GoldenEye   \n",
       "\n",
       "                                            overview  \n",
       "0  Led by Woody, Andy's toys live happily in his ...  \n",
       "1  When siblings Judy and Peter discover an encha...  \n",
       "2  A family wedding reignites the ancient feud be...  \n",
       "3  Cheated on, mistreated and stepped on, the wom...  \n",
       "4  Just when George Banks has recovered from his ...  \n",
       "5  Obsessive master thief, Neil McCauley leads a ...  \n",
       "6  An ugly duckling having undergone a remarkable...  \n",
       "7  A mischievous young boy, Tom Sawyer, witnesses...  \n",
       "8  International action superstar Jean Claude Van...  \n",
       "9  James Bond must unmask the mysterious head of ...  "
      ]
     },
     "execution_count": 9,
     "metadata": {},
     "output_type": "execute_result"
    }
   ],
   "source": [
    "df_descriptions = movie_df[['title', 'overview']]\n",
    "df_descriptions.head(10)"
   ]
  },
  {
   "cell_type": "markdown",
   "metadata": {
    "colab_type": "text",
    "id": "Cia5BpvxMpEB"
   },
   "source": [
    "What does it mean for two items to be similar from a content perspective? \n",
    "\n",
    "Well first, we need to put the content into a format a model can understand. Right now we only have movie descriptions and we can't really feed this straight into some model. Instead we will use the Term Frequency Inverse Document Frequency measure (TF-IDF).\n",
    "\n",
    "\n",
    "The TF-IDF is made of two measures, term frequency (TF) and inverse document frequency (IDF). \n",
    "\n",
    "For a term (a word or phrase), $t$, and a document ,$d$, the term frequency $\\text{TF}(t,d)$, measures how common the term is in the document. \n",
    "\n",
    "The inverse document frequency of a term $t$, $\\text{IDF}(t)$, is the inverse of the number of documents a term $t$ appears in.\n",
    "\n",
    "The intuition is that when a term appears in many documents, it's not very relevant. However, if it only appears in a few documents, it's very relevant to identifying those documents.\n",
    "\n",
    "For a complete description see the [Wikipedia](https://en.wikipedia.org/wiki/Tf%E2%80%93idf) page but what you need to know is: \n",
    "\n",
    "- The more common a term is across all documents the more $\\text{IDF}(t)$ shrinks, \n",
    "- The more common a term is within one document the more $\\text{TF}(t,d)$ grows. \n",
    "- The term frequency inverse document frequency is simply the product of these two: \n",
    "    $$\\text{TF-IDF}(t,d) = \\text{TF}(t,d)\\times  \\text{IDF}(t)$$"
   ]
  },
  {
   "cell_type": "markdown",
   "metadata": {
    "colab_type": "text",
    "id": "MhcTWIk-MpED"
   },
   "source": [
    "Now we can transform our data using the TF-IDF measure. Each movie is a document, or more precisely each description is a document, and for now let's keep it simple, terms will just be individual words. We can use built in python functionality to make our life easy:"
   ]
  },
  {
   "cell_type": "code",
   "execution_count": 10,
   "metadata": {},
   "outputs": [],
   "source": [
    "from sklearn.feature_extraction.text import TfidfVectorizer\n",
    "\n",
    "vectorizer = TfidfVectorizer(stop_words = \"english\", min_df=2)\n",
    "movie_df['overview'] = movie_df['overview'].fillna(\"\")\n",
    "\n",
    "TF_IDF_matrix = vectorizer.fit_transform(movie_df['overview'])"
   ]
  },
  {
   "cell_type": "code",
   "execution_count": 11,
   "metadata": {},
   "outputs": [
    {
     "data": {
      "text/plain": [
       "(42278, 36504)"
      ]
     },
     "execution_count": 11,
     "metadata": {},
     "output_type": "execute_result"
    }
   ],
   "source": [
    "# 42,728 movies by 36,504 tokens in the descriptions =~ 1.5B elements!\n",
    "TF_IDF_matrix.shape"
   ]
  },
  {
   "cell_type": "markdown",
   "metadata": {
    "colab_type": "text",
    "id": "p6JcyYOjMpEn"
   },
   "source": [
    "The matrix returned is quite large, each row is a document and each column is a term. Entry ${(i,j)}$ is just the TF-IDF$(i,j)$.\n",
    "\n",
    "Now that we have our data in a numeric format how can we measure the similarity between two documents. Each document is a row in our sparse matrix:"
   ]
  },
  {
   "cell_type": "code",
   "execution_count": 12,
   "metadata": {},
   "outputs": [
    {
     "data": {
      "text/plain": [
       "matrix([[0., 0., 0., ..., 0., 0., 0.]])"
      ]
     },
     "execution_count": 12,
     "metadata": {},
     "output_type": "execute_result"
    }
   ],
   "source": [
    "TF_IDF_matrix[(movie_df['title'] == 'Citizen Kane').values].todense().squeeze()"
   ]
  },
  {
   "cell_type": "markdown",
   "metadata": {
    "colab_type": "text",
    "id": "XKySuos-MpFV"
   },
   "source": [
    "We see these are just numeric arrays, that is vectors. There are several common ways to compare two vectors $a$ and $b$, probably the most common in recommender systems is the cosine similarity:\n",
    "\n",
    "$$\\frac{a \\cdot b}{||a||\\cdot ||b||}$$\n",
    "\n",
    "The closer two vectors (or documents) are, the higher this measure. We can calculate the similarity using cosine similiarity using sklearn's cosine similarity function:"
   ]
  },
  {
   "cell_type": "code",
   "execution_count": 13,
   "metadata": {},
   "outputs": [
    {
     "data": {
      "text/html": [
       "<div>\n",
       "<style scoped>\n",
       "    .dataframe tbody tr th:only-of-type {\n",
       "        vertical-align: middle;\n",
       "    }\n",
       "\n",
       "    .dataframe tbody tr th {\n",
       "        vertical-align: top;\n",
       "    }\n",
       "\n",
       "    .dataframe thead th {\n",
       "        text-align: right;\n",
       "    }\n",
       "</style>\n",
       "<table border=\"1\" class=\"dataframe\">\n",
       "  <thead>\n",
       "    <tr style=\"text-align: right;\">\n",
       "      <th></th>\n",
       "      <th>id</th>\n",
       "      <th>title</th>\n",
       "      <th>overview</th>\n",
       "      <th>vote_average</th>\n",
       "      <th>vote_count</th>\n",
       "    </tr>\n",
       "  </thead>\n",
       "  <tbody>\n",
       "    <tr>\n",
       "      <th>8773</th>\n",
       "      <td>13995</td>\n",
       "      <td>Captain America</td>\n",
       "      <td>During World War II, a brave, patriotic Americ...</td>\n",
       "      <td>4.5</td>\n",
       "      <td>87.0</td>\n",
       "    </tr>\n",
       "    <tr>\n",
       "      <th>16728</th>\n",
       "      <td>1771</td>\n",
       "      <td>Captain America: The First Avenger</td>\n",
       "      <td>Predominantly set during World War II, Steve R...</td>\n",
       "      <td>6.6</td>\n",
       "      <td>7174.0</td>\n",
       "    </tr>\n",
       "    <tr>\n",
       "      <th>19994</th>\n",
       "      <td>197481</td>\n",
       "      <td>Captain America II: Death Too Soon</td>\n",
       "      <td>A government agent is looking for a missing sc...</td>\n",
       "      <td>3.5</td>\n",
       "      <td>10.0</td>\n",
       "    </tr>\n",
       "    <tr>\n",
       "      <th>21901</th>\n",
       "      <td>100402</td>\n",
       "      <td>Captain America: The Winter Soldier</td>\n",
       "      <td>After the cataclysmic events in New York with ...</td>\n",
       "      <td>7.6</td>\n",
       "      <td>5881.0</td>\n",
       "    </tr>\n",
       "    <tr>\n",
       "      <th>25069</th>\n",
       "      <td>271110</td>\n",
       "      <td>Captain America: Civil War</td>\n",
       "      <td>Following the events of Age of Ultron, the col...</td>\n",
       "      <td>7.1</td>\n",
       "      <td>7462.0</td>\n",
       "    </tr>\n",
       "    <tr>\n",
       "      <th>29007</th>\n",
       "      <td>284274</td>\n",
       "      <td>Iron Man &amp; Captain America: Heroes United</td>\n",
       "      <td>Iron Man and Captain America battle to keep th...</td>\n",
       "      <td>5.8</td>\n",
       "      <td>21.0</td>\n",
       "    </tr>\n",
       "  </tbody>\n",
       "</table>\n",
       "</div>"
      ],
      "text/plain": [
       "           id                                      title  \\\n",
       "8773    13995                            Captain America   \n",
       "16728    1771         Captain America: The First Avenger   \n",
       "19994  197481         Captain America II: Death Too Soon   \n",
       "21901  100402        Captain America: The Winter Soldier   \n",
       "25069  271110                 Captain America: Civil War   \n",
       "29007  284274  Iron Man & Captain America: Heroes United   \n",
       "\n",
       "                                                overview  vote_average  \\\n",
       "8773   During World War II, a brave, patriotic Americ...           4.5   \n",
       "16728  Predominantly set during World War II, Steve R...           6.6   \n",
       "19994  A government agent is looking for a missing sc...           3.5   \n",
       "21901  After the cataclysmic events in New York with ...           7.6   \n",
       "25069  Following the events of Age of Ultron, the col...           7.1   \n",
       "29007  Iron Man and Captain America battle to keep th...           5.8   \n",
       "\n",
       "       vote_count  \n",
       "8773         87.0  \n",
       "16728      7174.0  \n",
       "19994        10.0  \n",
       "21901      5881.0  \n",
       "25069      7462.0  \n",
       "29007        21.0  "
      ]
     },
     "execution_count": 13,
     "metadata": {},
     "output_type": "execute_result"
    }
   ],
   "source": [
    "movie_df[movie_df['title'].str.contains('Captain America', na=False)]"
   ]
  },
  {
   "cell_type": "code",
   "execution_count": 14,
   "metadata": {
    "colab": {},
    "colab_type": "code",
    "id": "reo1fBcVMpFk",
    "outputId": "9e41c007-066f-4ab0-c1c1-c779dd41cf08"
   },
   "outputs": [
    {
     "name": "stdout",
     "output_type": "stream",
     "text": [
      "Similarity: [[0.20110513]]\n"
     ]
    }
   ],
   "source": [
    "from sklearn.metrics.pairwise import cosine_similarity\n",
    "\n",
    "movie_1 = TF_IDF_matrix[(movie_df['title'] == 'Captain America: The First Avenger').values,]\n",
    "movie_2 = TF_IDF_matrix[(movie_df['title'] == 'Captain America: The Winter Soldier').values,]\n",
    "\n",
    "print(\"Similarity:\", cosine_similarity(movie_1, movie_2)) # Notice the result is a 2D 1X1 array, so to grab\n",
    "                                                          # the number we will need to index"
   ]
  },
  {
   "cell_type": "markdown",
   "metadata": {
    "colab_type": "text",
    "id": "t1JrCjYsMpF2"
   },
   "source": [
    "Not only can we use the `sklearn.metrics.pairwise.cosine_similiarity` function to compute that between two different vectors, we can pass the entire tf-idf matrix into the function as a single argument and it will compute the similarity between each column and every other column, giving back a square matrix, where the entry at $(i, j)$ is the similarity between movie $i$ and $j$ (like a correlation matrix for features)."
   ]
  },
  {
   "cell_type": "code",
   "execution_count": 15,
   "metadata": {},
   "outputs": [],
   "source": [
    "from sklearn.metrics.pairwise import cosine_similarity \n",
    "similarities = cosine_similarity(TF_IDF_matrix, dense_output=False)"
   ]
  },
  {
   "cell_type": "code",
   "execution_count": 16,
   "metadata": {},
   "outputs": [
    {
     "data": {
      "text/plain": [
       "(42278, 42278)"
      ]
     },
     "execution_count": 16,
     "metadata": {},
     "output_type": "execute_result"
    }
   ],
   "source": [
    "# Check the shape\n",
    "# rows and columns should be equal, and the number of movies we started with (rows)\n",
    "similarities.shape"
   ]
  },
  {
   "cell_type": "markdown",
   "metadata": {},
   "source": [
    "Now that we can directly compare two movies and we can make recommendations of the form: if you like movie $a$ then you will also like movies $b$, $c$, $d$, $etc$. \n",
    "\n",
    "We can do this just picking a candidate film and taking its column in the similarity matrix, and then finding those rows where the similarities are highest:"
   ]
  },
  {
   "cell_type": "code",
   "execution_count": 17,
   "metadata": {},
   "outputs": [
    {
     "data": {
      "text/html": [
       "<div>\n",
       "<style scoped>\n",
       "    .dataframe tbody tr th:only-of-type {\n",
       "        vertical-align: middle;\n",
       "    }\n",
       "\n",
       "    .dataframe tbody tr th {\n",
       "        vertical-align: top;\n",
       "    }\n",
       "\n",
       "    .dataframe thead th {\n",
       "        text-align: right;\n",
       "    }\n",
       "</style>\n",
       "<table border=\"1\" class=\"dataframe\">\n",
       "  <thead>\n",
       "    <tr style=\"text-align: right;\">\n",
       "      <th></th>\n",
       "      <th>id</th>\n",
       "      <th>title</th>\n",
       "      <th>overview</th>\n",
       "      <th>vote_average</th>\n",
       "      <th>vote_count</th>\n",
       "    </tr>\n",
       "  </thead>\n",
       "  <tbody>\n",
       "    <tr>\n",
       "      <th>21901</th>\n",
       "      <td>100402</td>\n",
       "      <td>Captain America: The Winter Soldier</td>\n",
       "      <td>After the cataclysmic events in New York with ...</td>\n",
       "      <td>7.6</td>\n",
       "      <td>5881.0</td>\n",
       "    </tr>\n",
       "  </tbody>\n",
       "</table>\n",
       "</div>"
      ],
      "text/plain": [
       "           id                                title  \\\n",
       "21901  100402  Captain America: The Winter Soldier   \n",
       "\n",
       "                                                overview  vote_average  \\\n",
       "21901  After the cataclysmic events in New York with ...           7.6   \n",
       "\n",
       "       vote_count  \n",
       "21901      5881.0  "
      ]
     },
     "execution_count": 17,
     "metadata": {},
     "output_type": "execute_result"
    }
   ],
   "source": [
    "# Test with a sample movie\n",
    "movie_df[movie_df['title'] == 'Captain America: The Winter Soldier']"
   ]
  },
  {
   "cell_type": "code",
   "execution_count": 18,
   "metadata": {},
   "outputs": [],
   "source": [
    "# Get the column based upon the index\n",
    "movie_index = movie_df[movie_df['title'] == 'Captain America: The Winter Soldier'].index\n",
    "\n",
    "# Create a dataframe with the movie titles\n",
    "sim_df = pd.DataFrame({'movie':movie_df['title'], \n",
    "                       'similarity': np.array(similarities[movie_index, :].todense()).squeeze()})"
   ]
  },
  {
   "cell_type": "code",
   "execution_count": 19,
   "metadata": {},
   "outputs": [
    {
     "data": {
      "text/html": [
       "<div>\n",
       "<style scoped>\n",
       "    .dataframe tbody tr th:only-of-type {\n",
       "        vertical-align: middle;\n",
       "    }\n",
       "\n",
       "    .dataframe tbody tr th {\n",
       "        vertical-align: top;\n",
       "    }\n",
       "\n",
       "    .dataframe thead th {\n",
       "        text-align: right;\n",
       "    }\n",
       "</style>\n",
       "<table border=\"1\" class=\"dataframe\">\n",
       "  <thead>\n",
       "    <tr style=\"text-align: right;\">\n",
       "      <th></th>\n",
       "      <th>movie</th>\n",
       "      <th>similarity</th>\n",
       "    </tr>\n",
       "  </thead>\n",
       "  <tbody>\n",
       "    <tr>\n",
       "      <th>21901</th>\n",
       "      <td>Captain America: The Winter Soldier</td>\n",
       "      <td>1.000000</td>\n",
       "    </tr>\n",
       "    <tr>\n",
       "      <th>29007</th>\n",
       "      <td>Iron Man &amp; Captain America: Heroes United</td>\n",
       "      <td>0.248660</td>\n",
       "    </tr>\n",
       "    <tr>\n",
       "      <th>38347</th>\n",
       "      <td>Team Thor</td>\n",
       "      <td>0.236475</td>\n",
       "    </tr>\n",
       "    <tr>\n",
       "      <th>17908</th>\n",
       "      <td>Captain Midnight</td>\n",
       "      <td>0.219943</td>\n",
       "    </tr>\n",
       "    <tr>\n",
       "      <th>10510</th>\n",
       "      <td>Ultimate Avengers</td>\n",
       "      <td>0.208340</td>\n",
       "    </tr>\n",
       "    <tr>\n",
       "      <th>16728</th>\n",
       "      <td>Captain America: The First Avenger</td>\n",
       "      <td>0.201105</td>\n",
       "    </tr>\n",
       "    <tr>\n",
       "      <th>19994</th>\n",
       "      <td>Captain America II: Death Too Soon</td>\n",
       "      <td>0.195632</td>\n",
       "    </tr>\n",
       "    <tr>\n",
       "      <th>8773</th>\n",
       "      <td>Captain America</td>\n",
       "      <td>0.173304</td>\n",
       "    </tr>\n",
       "    <tr>\n",
       "      <th>25069</th>\n",
       "      <td>Captain America: Civil War</td>\n",
       "      <td>0.150823</td>\n",
       "    </tr>\n",
       "    <tr>\n",
       "      <th>21154</th>\n",
       "      <td>Star Trek: Of Gods And Men</td>\n",
       "      <td>0.147234</td>\n",
       "    </tr>\n",
       "  </tbody>\n",
       "</table>\n",
       "</div>"
      ],
      "text/plain": [
       "                                           movie  similarity\n",
       "21901        Captain America: The Winter Soldier    1.000000\n",
       "29007  Iron Man & Captain America: Heroes United    0.248660\n",
       "38347                                  Team Thor    0.236475\n",
       "17908                           Captain Midnight    0.219943\n",
       "10510                          Ultimate Avengers    0.208340\n",
       "16728         Captain America: The First Avenger    0.201105\n",
       "19994         Captain America II: Death Too Soon    0.195632\n",
       "8773                             Captain America    0.173304\n",
       "25069                 Captain America: Civil War    0.150823\n",
       "21154                 Star Trek: Of Gods And Men    0.147234"
      ]
     },
     "execution_count": 19,
     "metadata": {},
     "output_type": "execute_result"
    }
   ],
   "source": [
    "# Return the top 10 most similar movies\n",
    "sim_df.sort_values(by='similarity', ascending=False).head(10)"
   ]
  },
  {
   "cell_type": "markdown",
   "metadata": {},
   "source": [
    "Now let's now implement this using a simple function, since we must first find the corresponding column in the similarity matrix. We'll also add a parameter for a vote threshold, to restrict our results to above a certain threshold of votes, so that we can only return more popular films if we'd like:"
   ]
  },
  {
   "cell_type": "code",
   "execution_count": 20,
   "metadata": {
    "colab": {},
    "colab_type": "code",
    "id": "NoQoisR_MpF7",
    "scrolled": true
   },
   "outputs": [],
   "source": [
    "def content_recommender(title, movies, similarities, vote_threshold=10) :\n",
    "    \n",
    "    # Get the movie by the title\n",
    "    movie_index = movies[movies['title'] == title].index\n",
    "    \n",
    "    # Create a dataframe with the movie titles\n",
    "    sim_df = pd.DataFrame(\n",
    "        {'movie': movies['title'], \n",
    "         'similarity': np.array(similarities[movie_index, :].todense()).squeeze(),\n",
    "         'vote_count': movies['vote_count']\n",
    "        })\n",
    "    \n",
    "    # Get the top 10 movies with > 10 votes\n",
    "    top_movies = sim_df[sim_df['vote_count'] > vote_threshold].sort_values(by='similarity', ascending=False).head(10)\n",
    "    \n",
    "    return top_movies"
   ]
  },
  {
   "cell_type": "code",
   "execution_count": 21,
   "metadata": {
    "colab": {},
    "colab_type": "code",
    "id": "SvytHz79MpGB",
    "outputId": "fe4f0c78-1dd0-4db7-dabf-8d322d94f2c8"
   },
   "outputs": [
    {
     "data": {
      "text/html": [
       "<div>\n",
       "<style scoped>\n",
       "    .dataframe tbody tr th:only-of-type {\n",
       "        vertical-align: middle;\n",
       "    }\n",
       "\n",
       "    .dataframe tbody tr th {\n",
       "        vertical-align: top;\n",
       "    }\n",
       "\n",
       "    .dataframe thead th {\n",
       "        text-align: right;\n",
       "    }\n",
       "</style>\n",
       "<table border=\"1\" class=\"dataframe\">\n",
       "  <thead>\n",
       "    <tr style=\"text-align: right;\">\n",
       "      <th></th>\n",
       "      <th>movie</th>\n",
       "      <th>similarity</th>\n",
       "      <th>vote_count</th>\n",
       "    </tr>\n",
       "  </thead>\n",
       "  <tbody>\n",
       "    <tr>\n",
       "      <th>16286</th>\n",
       "      <td>Thor</td>\n",
       "      <td>1.000000</td>\n",
       "      <td>6678.0</td>\n",
       "    </tr>\n",
       "    <tr>\n",
       "      <th>20898</th>\n",
       "      <td>Thor: The Dark World</td>\n",
       "      <td>0.386387</td>\n",
       "      <td>4873.0</td>\n",
       "    </tr>\n",
       "    <tr>\n",
       "      <th>20077</th>\n",
       "      <td>Man of Steel</td>\n",
       "      <td>0.104019</td>\n",
       "      <td>6462.0</td>\n",
       "    </tr>\n",
       "    <tr>\n",
       "      <th>18157</th>\n",
       "      <td>Prometheus</td>\n",
       "      <td>0.092096</td>\n",
       "      <td>5152.0</td>\n",
       "    </tr>\n",
       "    <tr>\n",
       "      <th>20164</th>\n",
       "      <td>Despicable Me 2</td>\n",
       "      <td>0.085703</td>\n",
       "      <td>4729.0</td>\n",
       "    </tr>\n",
       "    <tr>\n",
       "      <th>20033</th>\n",
       "      <td>After Earth</td>\n",
       "      <td>0.085284</td>\n",
       "      <td>2579.0</td>\n",
       "    </tr>\n",
       "    <tr>\n",
       "      <th>13892</th>\n",
       "      <td>2012</td>\n",
       "      <td>0.085091</td>\n",
       "      <td>4994.0</td>\n",
       "    </tr>\n",
       "    <tr>\n",
       "      <th>6302</th>\n",
       "      <td>The League of Extraordinary Gentlemen</td>\n",
       "      <td>0.084021</td>\n",
       "      <td>1181.0</td>\n",
       "    </tr>\n",
       "    <tr>\n",
       "      <th>11963</th>\n",
       "      <td>Hellboy II: The Golden Army</td>\n",
       "      <td>0.082181</td>\n",
       "      <td>1555.0</td>\n",
       "    </tr>\n",
       "    <tr>\n",
       "      <th>29173</th>\n",
       "      <td>Batman v Superman: Dawn of Justice</td>\n",
       "      <td>0.079295</td>\n",
       "      <td>7189.0</td>\n",
       "    </tr>\n",
       "  </tbody>\n",
       "</table>\n",
       "</div>"
      ],
      "text/plain": [
       "                                       movie  similarity  vote_count\n",
       "16286                                   Thor    1.000000      6678.0\n",
       "20898                   Thor: The Dark World    0.386387      4873.0\n",
       "20077                           Man of Steel    0.104019      6462.0\n",
       "18157                             Prometheus    0.092096      5152.0\n",
       "20164                        Despicable Me 2    0.085703      4729.0\n",
       "20033                            After Earth    0.085284      2579.0\n",
       "13892                                   2012    0.085091      4994.0\n",
       "6302   The League of Extraordinary Gentlemen    0.084021      1181.0\n",
       "11963            Hellboy II: The Golden Army    0.082181      1555.0\n",
       "29173     Batman v Superman: Dawn of Justice    0.079295      7189.0"
      ]
     },
     "execution_count": 21,
     "metadata": {},
     "output_type": "execute_result"
    }
   ],
   "source": [
    "# Test the recommender\n",
    "similar_movies = content_recommender(\"Thor\", movie_df, similarities, vote_threshold=1000)\n",
    "similar_movies.head(10)"
   ]
  },
  {
   "cell_type": "markdown",
   "metadata": {},
   "source": [
    "### Content Based System Review\n",
    "\n",
    "These systems try and recommend new items (in our case movies) based on the idea that if you like a certain movie, you will like movies that are similar in their description. We could also include more information than just the vectorized description text by adding other features, for example, whether films were of a particular genre or had a particular director or actor.\n",
    "\n",
    "This is a more advanced recommendation system than the user independent one, and certainly gives better recommendations. However we also need to be mindful about sometimes returning some variety in our results to make sure users don't get bored with our recommendations.\n",
    "\n",
    "------"
   ]
  },
  {
   "cell_type": "markdown",
   "metadata": {
    "colab_type": "text",
    "id": "vJXZ6p7NMpGf"
   },
   "source": [
    "### Collaborative Based Recommendations\n",
    "\n",
    "Collaborative filtering also relies on similarity between items, as well as similarity between users. However, it define similarity slightly differently.\n",
    "\n",
    "Unlike content-based systems, a collaborative system looks at an item as a collection of ratings. Every item has ratings by some users, and if two items get very similar ratings from users, the items themselves are similar (notice this system is not at all aware of the items' content).\n",
    "\n",
    "Similarly, we can define users to be similar if they rate items similarly.\n",
    "\n",
    "\n",
    "To actually do collaborative filtering we'll need some more data, now we'll user data with movie reviews from various users:"
   ]
  },
  {
   "cell_type": "code",
   "execution_count": 22,
   "metadata": {
    "colab": {},
    "colab_type": "code",
    "id": "K_vzdNK0MpGh",
    "outputId": "3605639b-7977-42e1-cb3c-7f689a6439ce"
   },
   "outputs": [
    {
     "name": "stdout",
     "output_type": "stream",
     "text": [
      "(100000, 3)\n"
     ]
    },
    {
     "data": {
      "text/html": [
       "<div>\n",
       "<style scoped>\n",
       "    .dataframe tbody tr th:only-of-type {\n",
       "        vertical-align: middle;\n",
       "    }\n",
       "\n",
       "    .dataframe tbody tr th {\n",
       "        vertical-align: top;\n",
       "    }\n",
       "\n",
       "    .dataframe thead th {\n",
       "        text-align: right;\n",
       "    }\n",
       "</style>\n",
       "<table border=\"1\" class=\"dataframe\">\n",
       "  <thead>\n",
       "    <tr style=\"text-align: right;\">\n",
       "      <th></th>\n",
       "      <th>user</th>\n",
       "      <th>movie</th>\n",
       "      <th>score</th>\n",
       "    </tr>\n",
       "  </thead>\n",
       "  <tbody>\n",
       "    <tr>\n",
       "      <th>0</th>\n",
       "      <td>196</td>\n",
       "      <td>242</td>\n",
       "      <td>3</td>\n",
       "    </tr>\n",
       "    <tr>\n",
       "      <th>1</th>\n",
       "      <td>186</td>\n",
       "      <td>302</td>\n",
       "      <td>3</td>\n",
       "    </tr>\n",
       "    <tr>\n",
       "      <th>2</th>\n",
       "      <td>22</td>\n",
       "      <td>377</td>\n",
       "      <td>1</td>\n",
       "    </tr>\n",
       "    <tr>\n",
       "      <th>3</th>\n",
       "      <td>244</td>\n",
       "      <td>51</td>\n",
       "      <td>2</td>\n",
       "    </tr>\n",
       "    <tr>\n",
       "      <th>4</th>\n",
       "      <td>166</td>\n",
       "      <td>346</td>\n",
       "      <td>1</td>\n",
       "    </tr>\n",
       "  </tbody>\n",
       "</table>\n",
       "</div>"
      ],
      "text/plain": [
       "   user  movie  score\n",
       "0   196    242      3\n",
       "1   186    302      3\n",
       "2    22    377      1\n",
       "3   244     51      2\n",
       "4   166    346      1"
      ]
     },
     "execution_count": 22,
     "metadata": {},
     "output_type": "execute_result"
    }
   ],
   "source": [
    "columns = ['user', 'movie', 'score', 'timestamp']\n",
    "df = pd.read_csv('data/u.data', sep='\\t', names=columns).drop('timestamp',axis=1)\n",
    "print(df.shape)\n",
    "df.head()"
   ]
  },
  {
   "cell_type": "markdown",
   "metadata": {},
   "source": [
    "Notice we only have the review for each user and movie combination. In essence, we know user 196 gave movie 242 a review of 3, but we know nothing of the movie content or the user preference.\n",
    "\n",
    "The first think we need to do is turn the dataframe we have into a matrix $R$, where each entry in $R$, $R_{um}$ is the rating user $u$ gave item $m$. This is referred to as the _utility matrix_. \n",
    "\n",
    "In our case the items, are movies. Let's get our user-item utility matrix $R$:"
   ]
  },
  {
   "cell_type": "code",
   "execution_count": 23,
   "metadata": {
    "colab": {},
    "colab_type": "code",
    "id": "NfxKBMX8MpGs",
    "outputId": "58cf9cb6-9420-4d59-bad6-00bba3e9a2c8",
    "scrolled": true
   },
   "outputs": [],
   "source": [
    "users = df['user'].unique()\n",
    "movies = df['movie'].unique()\n",
    "\n",
    "num_users = len(users)\n",
    "num_movies = len(movies)\n",
    "           \n",
    "# np.nan means they user has not reviewed the movie\n",
    "R = np.full((num_users, num_movies), np.nan)\n",
    "\n",
    "#Build the user-item matrix\n",
    "for row in df.itertuples(): # same as zip(df.index, df[\"user\"], df[\"movie\"], df[\"score\"])\n",
    "    user = row[1]\n",
    "    movie = row[2]\n",
    "    rating = row[3]\n",
    "    R[user-1, movie-1] = rating\n",
    "    \n",
    "R_df = pd.DataFrame(data=R, index=range(1, num_users+1), columns=range(1, num_movies+1))"
   ]
  },
  {
   "cell_type": "code",
   "execution_count": 24,
   "metadata": {},
   "outputs": [
    {
     "data": {
      "text/plain": [
       "Pandas(Index=0, user=196, movie=242, score=3)"
      ]
     },
     "execution_count": 24,
     "metadata": {},
     "output_type": "execute_result"
    }
   ],
   "source": [
    "list(df.itertuples())[0] # Pandas special named tuple"
   ]
  },
  {
   "cell_type": "code",
   "execution_count": 25,
   "metadata": {},
   "outputs": [
    {
     "data": {
      "text/html": [
       "<div>\n",
       "<style scoped>\n",
       "    .dataframe tbody tr th:only-of-type {\n",
       "        vertical-align: middle;\n",
       "    }\n",
       "\n",
       "    .dataframe tbody tr th {\n",
       "        vertical-align: top;\n",
       "    }\n",
       "\n",
       "    .dataframe thead th {\n",
       "        text-align: right;\n",
       "    }\n",
       "</style>\n",
       "<table border=\"1\" class=\"dataframe\">\n",
       "  <thead>\n",
       "    <tr style=\"text-align: right;\">\n",
       "      <th></th>\n",
       "      <th>1</th>\n",
       "      <th>2</th>\n",
       "      <th>3</th>\n",
       "      <th>4</th>\n",
       "      <th>5</th>\n",
       "      <th>6</th>\n",
       "      <th>7</th>\n",
       "      <th>8</th>\n",
       "      <th>9</th>\n",
       "      <th>10</th>\n",
       "      <th>...</th>\n",
       "      <th>1673</th>\n",
       "      <th>1674</th>\n",
       "      <th>1675</th>\n",
       "      <th>1676</th>\n",
       "      <th>1677</th>\n",
       "      <th>1678</th>\n",
       "      <th>1679</th>\n",
       "      <th>1680</th>\n",
       "      <th>1681</th>\n",
       "      <th>1682</th>\n",
       "    </tr>\n",
       "  </thead>\n",
       "  <tbody>\n",
       "    <tr>\n",
       "      <th>1</th>\n",
       "      <td>5.0</td>\n",
       "      <td>3.0</td>\n",
       "      <td>4.0</td>\n",
       "      <td>3.0</td>\n",
       "      <td>3.0</td>\n",
       "      <td>5.0</td>\n",
       "      <td>4.0</td>\n",
       "      <td>1.0</td>\n",
       "      <td>5.0</td>\n",
       "      <td>3.0</td>\n",
       "      <td>...</td>\n",
       "      <td>NaN</td>\n",
       "      <td>NaN</td>\n",
       "      <td>NaN</td>\n",
       "      <td>NaN</td>\n",
       "      <td>NaN</td>\n",
       "      <td>NaN</td>\n",
       "      <td>NaN</td>\n",
       "      <td>NaN</td>\n",
       "      <td>NaN</td>\n",
       "      <td>NaN</td>\n",
       "    </tr>\n",
       "    <tr>\n",
       "      <th>2</th>\n",
       "      <td>4.0</td>\n",
       "      <td>NaN</td>\n",
       "      <td>NaN</td>\n",
       "      <td>NaN</td>\n",
       "      <td>NaN</td>\n",
       "      <td>NaN</td>\n",
       "      <td>NaN</td>\n",
       "      <td>NaN</td>\n",
       "      <td>NaN</td>\n",
       "      <td>2.0</td>\n",
       "      <td>...</td>\n",
       "      <td>NaN</td>\n",
       "      <td>NaN</td>\n",
       "      <td>NaN</td>\n",
       "      <td>NaN</td>\n",
       "      <td>NaN</td>\n",
       "      <td>NaN</td>\n",
       "      <td>NaN</td>\n",
       "      <td>NaN</td>\n",
       "      <td>NaN</td>\n",
       "      <td>NaN</td>\n",
       "    </tr>\n",
       "    <tr>\n",
       "      <th>3</th>\n",
       "      <td>NaN</td>\n",
       "      <td>NaN</td>\n",
       "      <td>NaN</td>\n",
       "      <td>NaN</td>\n",
       "      <td>NaN</td>\n",
       "      <td>NaN</td>\n",
       "      <td>NaN</td>\n",
       "      <td>NaN</td>\n",
       "      <td>NaN</td>\n",
       "      <td>NaN</td>\n",
       "      <td>...</td>\n",
       "      <td>NaN</td>\n",
       "      <td>NaN</td>\n",
       "      <td>NaN</td>\n",
       "      <td>NaN</td>\n",
       "      <td>NaN</td>\n",
       "      <td>NaN</td>\n",
       "      <td>NaN</td>\n",
       "      <td>NaN</td>\n",
       "      <td>NaN</td>\n",
       "      <td>NaN</td>\n",
       "    </tr>\n",
       "    <tr>\n",
       "      <th>4</th>\n",
       "      <td>NaN</td>\n",
       "      <td>NaN</td>\n",
       "      <td>NaN</td>\n",
       "      <td>NaN</td>\n",
       "      <td>NaN</td>\n",
       "      <td>NaN</td>\n",
       "      <td>NaN</td>\n",
       "      <td>NaN</td>\n",
       "      <td>NaN</td>\n",
       "      <td>NaN</td>\n",
       "      <td>...</td>\n",
       "      <td>NaN</td>\n",
       "      <td>NaN</td>\n",
       "      <td>NaN</td>\n",
       "      <td>NaN</td>\n",
       "      <td>NaN</td>\n",
       "      <td>NaN</td>\n",
       "      <td>NaN</td>\n",
       "      <td>NaN</td>\n",
       "      <td>NaN</td>\n",
       "      <td>NaN</td>\n",
       "    </tr>\n",
       "    <tr>\n",
       "      <th>5</th>\n",
       "      <td>4.0</td>\n",
       "      <td>3.0</td>\n",
       "      <td>NaN</td>\n",
       "      <td>NaN</td>\n",
       "      <td>NaN</td>\n",
       "      <td>NaN</td>\n",
       "      <td>NaN</td>\n",
       "      <td>NaN</td>\n",
       "      <td>NaN</td>\n",
       "      <td>NaN</td>\n",
       "      <td>...</td>\n",
       "      <td>NaN</td>\n",
       "      <td>NaN</td>\n",
       "      <td>NaN</td>\n",
       "      <td>NaN</td>\n",
       "      <td>NaN</td>\n",
       "      <td>NaN</td>\n",
       "      <td>NaN</td>\n",
       "      <td>NaN</td>\n",
       "      <td>NaN</td>\n",
       "      <td>NaN</td>\n",
       "    </tr>\n",
       "    <tr>\n",
       "      <th>...</th>\n",
       "      <td>...</td>\n",
       "      <td>...</td>\n",
       "      <td>...</td>\n",
       "      <td>...</td>\n",
       "      <td>...</td>\n",
       "      <td>...</td>\n",
       "      <td>...</td>\n",
       "      <td>...</td>\n",
       "      <td>...</td>\n",
       "      <td>...</td>\n",
       "      <td>...</td>\n",
       "      <td>...</td>\n",
       "      <td>...</td>\n",
       "      <td>...</td>\n",
       "      <td>...</td>\n",
       "      <td>...</td>\n",
       "      <td>...</td>\n",
       "      <td>...</td>\n",
       "      <td>...</td>\n",
       "      <td>...</td>\n",
       "      <td>...</td>\n",
       "    </tr>\n",
       "    <tr>\n",
       "      <th>939</th>\n",
       "      <td>NaN</td>\n",
       "      <td>NaN</td>\n",
       "      <td>NaN</td>\n",
       "      <td>NaN</td>\n",
       "      <td>NaN</td>\n",
       "      <td>NaN</td>\n",
       "      <td>NaN</td>\n",
       "      <td>NaN</td>\n",
       "      <td>5.0</td>\n",
       "      <td>NaN</td>\n",
       "      <td>...</td>\n",
       "      <td>NaN</td>\n",
       "      <td>NaN</td>\n",
       "      <td>NaN</td>\n",
       "      <td>NaN</td>\n",
       "      <td>NaN</td>\n",
       "      <td>NaN</td>\n",
       "      <td>NaN</td>\n",
       "      <td>NaN</td>\n",
       "      <td>NaN</td>\n",
       "      <td>NaN</td>\n",
       "    </tr>\n",
       "    <tr>\n",
       "      <th>940</th>\n",
       "      <td>NaN</td>\n",
       "      <td>NaN</td>\n",
       "      <td>NaN</td>\n",
       "      <td>2.0</td>\n",
       "      <td>NaN</td>\n",
       "      <td>NaN</td>\n",
       "      <td>4.0</td>\n",
       "      <td>5.0</td>\n",
       "      <td>3.0</td>\n",
       "      <td>NaN</td>\n",
       "      <td>...</td>\n",
       "      <td>NaN</td>\n",
       "      <td>NaN</td>\n",
       "      <td>NaN</td>\n",
       "      <td>NaN</td>\n",
       "      <td>NaN</td>\n",
       "      <td>NaN</td>\n",
       "      <td>NaN</td>\n",
       "      <td>NaN</td>\n",
       "      <td>NaN</td>\n",
       "      <td>NaN</td>\n",
       "    </tr>\n",
       "    <tr>\n",
       "      <th>941</th>\n",
       "      <td>5.0</td>\n",
       "      <td>NaN</td>\n",
       "      <td>NaN</td>\n",
       "      <td>NaN</td>\n",
       "      <td>NaN</td>\n",
       "      <td>NaN</td>\n",
       "      <td>4.0</td>\n",
       "      <td>NaN</td>\n",
       "      <td>NaN</td>\n",
       "      <td>NaN</td>\n",
       "      <td>...</td>\n",
       "      <td>NaN</td>\n",
       "      <td>NaN</td>\n",
       "      <td>NaN</td>\n",
       "      <td>NaN</td>\n",
       "      <td>NaN</td>\n",
       "      <td>NaN</td>\n",
       "      <td>NaN</td>\n",
       "      <td>NaN</td>\n",
       "      <td>NaN</td>\n",
       "      <td>NaN</td>\n",
       "    </tr>\n",
       "    <tr>\n",
       "      <th>942</th>\n",
       "      <td>NaN</td>\n",
       "      <td>NaN</td>\n",
       "      <td>NaN</td>\n",
       "      <td>NaN</td>\n",
       "      <td>NaN</td>\n",
       "      <td>NaN</td>\n",
       "      <td>NaN</td>\n",
       "      <td>NaN</td>\n",
       "      <td>NaN</td>\n",
       "      <td>NaN</td>\n",
       "      <td>...</td>\n",
       "      <td>NaN</td>\n",
       "      <td>NaN</td>\n",
       "      <td>NaN</td>\n",
       "      <td>NaN</td>\n",
       "      <td>NaN</td>\n",
       "      <td>NaN</td>\n",
       "      <td>NaN</td>\n",
       "      <td>NaN</td>\n",
       "      <td>NaN</td>\n",
       "      <td>NaN</td>\n",
       "    </tr>\n",
       "    <tr>\n",
       "      <th>943</th>\n",
       "      <td>NaN</td>\n",
       "      <td>5.0</td>\n",
       "      <td>NaN</td>\n",
       "      <td>NaN</td>\n",
       "      <td>NaN</td>\n",
       "      <td>NaN</td>\n",
       "      <td>NaN</td>\n",
       "      <td>NaN</td>\n",
       "      <td>3.0</td>\n",
       "      <td>NaN</td>\n",
       "      <td>...</td>\n",
       "      <td>NaN</td>\n",
       "      <td>NaN</td>\n",
       "      <td>NaN</td>\n",
       "      <td>NaN</td>\n",
       "      <td>NaN</td>\n",
       "      <td>NaN</td>\n",
       "      <td>NaN</td>\n",
       "      <td>NaN</td>\n",
       "      <td>NaN</td>\n",
       "      <td>NaN</td>\n",
       "    </tr>\n",
       "  </tbody>\n",
       "</table>\n",
       "<p>943 rows × 1682 columns</p>\n",
       "</div>"
      ],
      "text/plain": [
       "     1     2     3     4     5     6     7     8     9     10    ...  1673  \\\n",
       "1     5.0   3.0   4.0   3.0   3.0   5.0   4.0   1.0   5.0   3.0  ...   NaN   \n",
       "2     4.0   NaN   NaN   NaN   NaN   NaN   NaN   NaN   NaN   2.0  ...   NaN   \n",
       "3     NaN   NaN   NaN   NaN   NaN   NaN   NaN   NaN   NaN   NaN  ...   NaN   \n",
       "4     NaN   NaN   NaN   NaN   NaN   NaN   NaN   NaN   NaN   NaN  ...   NaN   \n",
       "5     4.0   3.0   NaN   NaN   NaN   NaN   NaN   NaN   NaN   NaN  ...   NaN   \n",
       "..    ...   ...   ...   ...   ...   ...   ...   ...   ...   ...  ...   ...   \n",
       "939   NaN   NaN   NaN   NaN   NaN   NaN   NaN   NaN   5.0   NaN  ...   NaN   \n",
       "940   NaN   NaN   NaN   2.0   NaN   NaN   4.0   5.0   3.0   NaN  ...   NaN   \n",
       "941   5.0   NaN   NaN   NaN   NaN   NaN   4.0   NaN   NaN   NaN  ...   NaN   \n",
       "942   NaN   NaN   NaN   NaN   NaN   NaN   NaN   NaN   NaN   NaN  ...   NaN   \n",
       "943   NaN   5.0   NaN   NaN   NaN   NaN   NaN   NaN   3.0   NaN  ...   NaN   \n",
       "\n",
       "     1674  1675  1676  1677  1678  1679  1680  1681  1682  \n",
       "1     NaN   NaN   NaN   NaN   NaN   NaN   NaN   NaN   NaN  \n",
       "2     NaN   NaN   NaN   NaN   NaN   NaN   NaN   NaN   NaN  \n",
       "3     NaN   NaN   NaN   NaN   NaN   NaN   NaN   NaN   NaN  \n",
       "4     NaN   NaN   NaN   NaN   NaN   NaN   NaN   NaN   NaN  \n",
       "5     NaN   NaN   NaN   NaN   NaN   NaN   NaN   NaN   NaN  \n",
       "..    ...   ...   ...   ...   ...   ...   ...   ...   ...  \n",
       "939   NaN   NaN   NaN   NaN   NaN   NaN   NaN   NaN   NaN  \n",
       "940   NaN   NaN   NaN   NaN   NaN   NaN   NaN   NaN   NaN  \n",
       "941   NaN   NaN   NaN   NaN   NaN   NaN   NaN   NaN   NaN  \n",
       "942   NaN   NaN   NaN   NaN   NaN   NaN   NaN   NaN   NaN  \n",
       "943   NaN   NaN   NaN   NaN   NaN   NaN   NaN   NaN   NaN  \n",
       "\n",
       "[943 rows x 1682 columns]"
      ]
     },
     "execution_count": 25,
     "metadata": {},
     "output_type": "execute_result"
    }
   ],
   "source": [
    "R_df"
   ]
  },
  {
   "cell_type": "markdown",
   "metadata": {},
   "source": [
    "In this matrix, the rows are the different users (so we have 943 different users) and the columns are the movies (so we have 1,682 different movies). \n",
    "\n",
    "As expected, most of the entries are empty since not every user has watched every film."
   ]
  },
  {
   "cell_type": "markdown",
   "metadata": {
    "colab_type": "text",
    "id": "_yzWh3pjMpG1"
   },
   "source": [
    "### User-Item Filtering\n",
    "\n",
    "Our first collaborative filtering model will be user-item filtering. User-item filtering works on the logic users with similar preferences on some item have similar preferences over other items. If we wanted to know what $R_{ij}$ is (what we think user $i$ would give to item $j$) we would find users similar to $i$ and determine what rank they gave $j$, we can use this as an estimate for $R_{ij}$."
   ]
  },
  {
   "cell_type": "markdown",
   "metadata": {
    "colab_type": "text",
    "id": "Ga6IQg0MMpG3"
   },
   "source": [
    "### Similar Users\n",
    "\n",
    "What makes two users similar? The simplest way to measure if user $a$ and $b$ are similar is to look at the items both of them reviewed. For example consider the following two users:"
   ]
  },
  {
   "cell_type": "code",
   "execution_count": 26,
   "metadata": {
    "colab": {},
    "colab_type": "code",
    "id": "Q6WSsNkoMpG4",
    "outputId": "0202f2a6-9200-443a-ef32-d53ca911bca2"
   },
   "outputs": [
    {
     "data": {
      "text/plain": [
       "1       5.0\n",
       "2       3.0\n",
       "3       4.0\n",
       "4       3.0\n",
       "5       3.0\n",
       "       ... \n",
       "1678    NaN\n",
       "1679    NaN\n",
       "1680    NaN\n",
       "1681    NaN\n",
       "1682    NaN\n",
       "Name: 1, Length: 1682, dtype: float64"
      ]
     },
     "execution_count": 26,
     "metadata": {},
     "output_type": "execute_result"
    }
   ],
   "source": [
    "R_df.loc[1, :]"
   ]
  },
  {
   "cell_type": "code",
   "execution_count": 27,
   "metadata": {
    "colab": {},
    "colab_type": "code",
    "id": "0nbzxxrlMpG9",
    "outputId": "683470fe-e6be-4f69-dca4-a87546cbf12d"
   },
   "outputs": [
    {
     "data": {
      "text/plain": [
       "1       5.0\n",
       "2       NaN\n",
       "3       NaN\n",
       "4       5.0\n",
       "5       NaN\n",
       "       ... \n",
       "1678    NaN\n",
       "1679    NaN\n",
       "1680    NaN\n",
       "1681    NaN\n",
       "1682    NaN\n",
       "Name: 16, Length: 1682, dtype: float64"
      ]
     },
     "execution_count": 27,
     "metadata": {},
     "output_type": "execute_result"
    }
   ],
   "source": [
    "R_df.loc[16, :]"
   ]
  },
  {
   "cell_type": "markdown",
   "metadata": {
    "colab_type": "text",
    "id": "DhBZ-9iLMpHG"
   },
   "source": [
    "We can compare them directly on the first movie since they both reviewed each of them. But we can't compare them on the second and third movie since only the first user reviewed both of those.\n",
    "\n",
    "\n",
    "We can find all of the movies that they both reviewed with:"
   ]
  },
  {
   "cell_type": "code",
   "execution_count": 28,
   "metadata": {},
   "outputs": [
    {
     "name": "stdout",
     "output_type": "stream",
     "text": [
      "73\n"
     ]
    }
   ],
   "source": [
    "movies_1st_user_rated = ~R_df.loc[1, :].isna()\n",
    "movies_2nd_user_rated = ~R_df.loc[16, :].isna()\n",
    "\n",
    "movies_both_users_rated = movies_1st_user_rated & movies_2nd_user_rated\n",
    "print(movies_both_users_rated.sum())"
   ]
  },
  {
   "cell_type": "code",
   "execution_count": 29,
   "metadata": {
    "colab": {},
    "colab_type": "code",
    "id": "NzVL_tQNMpHK",
    "outputId": "207ec61d-c707-4bed-9473-88c5512e77cc"
   },
   "outputs": [
    {
     "name": "stdout",
     "output_type": "stream",
     "text": [
      "Reviewers' scores:\n"
     ]
    },
    {
     "data": {
      "text/html": [
       "<div>\n",
       "<style scoped>\n",
       "    .dataframe tbody tr th:only-of-type {\n",
       "        vertical-align: middle;\n",
       "    }\n",
       "\n",
       "    .dataframe tbody tr th {\n",
       "        vertical-align: top;\n",
       "    }\n",
       "\n",
       "    .dataframe thead th {\n",
       "        text-align: right;\n",
       "    }\n",
       "</style>\n",
       "<table border=\"1\" class=\"dataframe\">\n",
       "  <thead>\n",
       "    <tr style=\"text-align: right;\">\n",
       "      <th></th>\n",
       "      <th>1</th>\n",
       "      <th>4</th>\n",
       "      <th>7</th>\n",
       "      <th>8</th>\n",
       "      <th>9</th>\n",
       "      <th>11</th>\n",
       "      <th>12</th>\n",
       "      <th>15</th>\n",
       "      <th>22</th>\n",
       "      <th>27</th>\n",
       "      <th>...</th>\n",
       "      <th>208</th>\n",
       "      <th>209</th>\n",
       "      <th>216</th>\n",
       "      <th>227</th>\n",
       "      <th>228</th>\n",
       "      <th>230</th>\n",
       "      <th>233</th>\n",
       "      <th>234</th>\n",
       "      <th>237</th>\n",
       "      <th>240</th>\n",
       "    </tr>\n",
       "  </thead>\n",
       "  <tbody>\n",
       "    <tr>\n",
       "      <th>1</th>\n",
       "      <td>5.0</td>\n",
       "      <td>3.0</td>\n",
       "      <td>4.0</td>\n",
       "      <td>1.0</td>\n",
       "      <td>5.0</td>\n",
       "      <td>2.0</td>\n",
       "      <td>5.0</td>\n",
       "      <td>5.0</td>\n",
       "      <td>4.0</td>\n",
       "      <td>2.0</td>\n",
       "      <td>...</td>\n",
       "      <td>5.0</td>\n",
       "      <td>4.0</td>\n",
       "      <td>5.0</td>\n",
       "      <td>4.0</td>\n",
       "      <td>5.0</td>\n",
       "      <td>4.0</td>\n",
       "      <td>2.0</td>\n",
       "      <td>4.0</td>\n",
       "      <td>2.0</td>\n",
       "      <td>3.0</td>\n",
       "    </tr>\n",
       "    <tr>\n",
       "      <th>16</th>\n",
       "      <td>5.0</td>\n",
       "      <td>5.0</td>\n",
       "      <td>5.0</td>\n",
       "      <td>5.0</td>\n",
       "      <td>5.0</td>\n",
       "      <td>5.0</td>\n",
       "      <td>5.0</td>\n",
       "      <td>5.0</td>\n",
       "      <td>5.0</td>\n",
       "      <td>2.0</td>\n",
       "      <td>...</td>\n",
       "      <td>5.0</td>\n",
       "      <td>5.0</td>\n",
       "      <td>5.0</td>\n",
       "      <td>5.0</td>\n",
       "      <td>5.0</td>\n",
       "      <td>5.0</td>\n",
       "      <td>5.0</td>\n",
       "      <td>5.0</td>\n",
       "      <td>5.0</td>\n",
       "      <td>4.0</td>\n",
       "    </tr>\n",
       "  </tbody>\n",
       "</table>\n",
       "<p>2 rows × 73 columns</p>\n",
       "</div>"
      ],
      "text/plain": [
       "    1    4    7    8    9    11   12   15   22   27   ...  208  209  216  227  \\\n",
       "1   5.0  3.0  4.0  1.0  5.0  2.0  5.0  5.0  4.0  2.0  ...  5.0  4.0  5.0  4.0   \n",
       "16  5.0  5.0  5.0  5.0  5.0  5.0  5.0  5.0  5.0  2.0  ...  5.0  5.0  5.0  5.0   \n",
       "\n",
       "    228  230  233  234  237  240  \n",
       "1   5.0  4.0  2.0  4.0  2.0  3.0  \n",
       "16  5.0  5.0  5.0  5.0  5.0  4.0  \n",
       "\n",
       "[2 rows x 73 columns]"
      ]
     },
     "execution_count": 29,
     "metadata": {},
     "output_type": "execute_result"
    }
   ],
   "source": [
    "print(\"Reviewers' scores:\")\n",
    "R_df.loc[[1, 16], movies_both_users_rated]"
   ]
  },
  {
   "cell_type": "markdown",
   "metadata": {
    "colab_type": "text",
    "id": "RhBrZRgRMpHT"
   },
   "source": [
    "This subset of items forms a vector over the same dimensions (items) for each user, thus we can take some measure of vector similarity to find user similarity. Let's again use the cosine similarity to find how close two users are:"
   ]
  },
  {
   "cell_type": "code",
   "execution_count": 30,
   "metadata": {
    "colab": {},
    "colab_type": "code",
    "id": "odzQIEVTMpHW",
    "outputId": "74922167-142d-4d84-a798-3b4e647f49e8"
   },
   "outputs": [
    {
     "name": "stdout",
     "output_type": "stream",
     "text": [
      "Similarity: [[0.96164403]]\n"
     ]
    }
   ],
   "source": [
    "print(\"Similarity:\", cosine_similarity(R_df.loc[1, movies_both_users_rated].values.reshape(1,-1), \n",
    "                                       R_df.loc[16, movies_both_users_rated].values.reshape(1,-1)))"
   ]
  },
  {
   "cell_type": "markdown",
   "metadata": {
    "colab_type": "text",
    "id": "DhiUq3bfMpHd"
   },
   "source": [
    "### Making Predictions\n",
    "\n",
    "Now that we have a way of directly comparing users we can find how similar user $u_i$ is to every other user who reviewed item $m$ (if we implement this for user 16 and item 1) we get:"
   ]
  },
  {
   "cell_type": "code",
   "execution_count": 31,
   "metadata": {},
   "outputs": [],
   "source": [
    "def find_user_similarity(user_1, user_2, R_df):\n",
    "    \n",
    "    # Define the mask which finds all movies they rated together\n",
    "    movies_1st_user_rated = ~R_df.loc[user_1, :].isna()\n",
    "    movies_2nd_user_rated = ~R_df.loc[user_2, :].isna()\n",
    "\n",
    "    movies_both_users_rated = movies_1st_user_rated & movies_2nd_user_rated\n",
    "\n",
    "    # Sum boolean to get the counts\n",
    "    number_of_movies_rated_together = movies_both_users_rated.sum()\n",
    "        \n",
    "    # Find the ratings of both users for movies they both watched\n",
    "    ratings_of_user1 = R_df.loc[user_1, movies_both_users_rated].values.reshape(1, -1)\n",
    "    ratings_of_user2 = R_df.loc[user_2, movies_both_users_rated].values.reshape(1, -1)\n",
    "    \n",
    "    # Finally, calculate the similarity between them\n",
    "    similarity = cosine_similarity(ratings_of_user1, ratings_of_user2)[0][0]\n",
    "    \n",
    "    return similarity, number_of_movies_rated_together"
   ]
  },
  {
   "cell_type": "code",
   "execution_count": 32,
   "metadata": {},
   "outputs": [],
   "source": [
    "current_user = 16 # we will only do this to user 16 for demonstration purposes\n",
    "current_movie = 2\n",
    "similarities_to_user_16 = []\n",
    "ratings_given_to_movie_2 = []\n",
    "\n",
    "# Find only the users who rated movie 2 (rows)\n",
    "R_df2 = R_df[~R_df.iloc[:, 1].isna()].copy()\n",
    "\n",
    "for other_user in R_df2.index:\n",
    "    \n",
    "    similarity, number_of_movies_rated_together = find_user_similarity(current_user, other_user, R_df)\n",
    "    similarities_to_user_16.append(similarity)\n",
    "    ratings_given_to_movie_2.append(R_df.loc[other_user, current_movie])\n",
    "            \n",
    "# Finally, let's turn these into numpy arrays so life is easier\n",
    "similarities_to_user_16 = np.array(similarities_to_user_16)\n",
    "ratings_given_to_movie_2 = np.array(ratings_given_to_movie_2)"
   ]
  },
  {
   "cell_type": "markdown",
   "metadata": {},
   "source": [
    "Now we can calculate the expected rating user 16 will give movie 2. We do so by a weighted average; We grab the score user $v$ gave movie 2, and multiply it by the similarity between user 16 and user $i$. Finally we divide by the sum of similarities. We do this for all $C$ users we have found that rated movies user 16 has watched.\n",
    "\n",
    "This can all be expressed as:\n",
    "\n",
    "$$\\hat{R_{16, 2}} = \\frac{\\sum_{v=1}^C R_{v, 2} \\cdot \\text{user_similarity}(16,v)}{\\sum_{v=1}^C\\text{user_similarity}(16, v)}$$\n",
    "\n",
    "for our particular case, or for the general case of user $u$ and movie $i$\n",
    "\n",
    "$$\\hat{R_{um}} = \\frac{\\sum_{v=1}^C R_{vm} \\cdot \\text{user_similarity}(u, v)}{\\sum_{v=1}^C \\text{user_similarity}(u, v)}$$"
   ]
  },
  {
   "cell_type": "code",
   "execution_count": 33,
   "metadata": {},
   "outputs": [
    {
     "name": "stdout",
     "output_type": "stream",
     "text": [
      "Predicted rating for movie 2 by user 16 is 3.21\n"
     ]
    }
   ],
   "source": [
    "predicted_rating = np.dot(ratings_given_to_movie_2, similarities_to_user_16)/np.sum(similarities_to_user_16)\n",
    "\n",
    "print(f'Predicted rating for movie 2 by user 16 is {round(predicted_rating, 2)}')"
   ]
  },
  {
   "cell_type": "markdown",
   "metadata": {
    "colab_type": "text",
    "id": "YzSwDlXqMpHt"
   },
   "source": [
    "Now to find the overall recommendation list for user 16 we need to calculate this score for every item they haven't rated yet then sort that list, quite the task!\n",
    "\n",
    "------------------------\n",
    "\n"
   ]
  },
  {
   "cell_type": "markdown",
   "metadata": {
    "colab_type": "text",
    "id": "RpT4E744MpHu"
   },
   "source": [
    "### Item-Item Filtering\n",
    "\n",
    "Our second collaborative filter model will be item-item filtering. In user-item filtering, we said if two users are similar, and one of them rated item $i$, the other user's rating of item $i$ will be similar.\n",
    "\n",
    "In item-item filtering, we say that if two items are similar, and a user ranked one of those items, that user's rating of the other item will be similar.\n",
    "\n",
    "In essence the logic is very similar, except instead of judging user similarity, we will look at item similarity."
   ]
  },
  {
   "cell_type": "markdown",
   "metadata": {
    "colab_type": "text",
    "id": "ijoRKMEkMpHv"
   },
   "source": [
    "### Similar Items\n",
    "\n",
    "What makes two items similar? As with measuring if users are similar there are many ways of measuring item similarity. For our simple method to find the similarity of two items, $x$ and $y$, we look at every user who reviewed both items. For example let us consider the items in columns 15 and 18. "
   ]
  },
  {
   "cell_type": "code",
   "execution_count": 34,
   "metadata": {},
   "outputs": [
    {
     "name": "stdout",
     "output_type": "stream",
     "text": [
      "7\n"
     ]
    }
   ],
   "source": [
    "users_who_ranked_item_15 = ~R_df.loc[:, 15].isna()\n",
    "users_who_ranked_item_18 = ~R_df.loc[:, 18].isna()\n",
    "\n",
    "users_who_ranked_both_items = users_who_ranked_item_15 & users_who_ranked_item_18\n",
    "print(users_who_ranked_both_items.sum())"
   ]
  },
  {
   "cell_type": "code",
   "execution_count": 35,
   "metadata": {
    "colab": {},
    "colab_type": "code",
    "id": "NzVL_tQNMpHK",
    "outputId": "207ec61d-c707-4bed-9473-88c5512e77cc"
   },
   "outputs": [
    {
     "name": "stdout",
     "output_type": "stream",
     "text": [
      "Reviewers' scores:\n"
     ]
    },
    {
     "data": {
      "text/html": [
       "<div>\n",
       "<style scoped>\n",
       "    .dataframe tbody tr th:only-of-type {\n",
       "        vertical-align: middle;\n",
       "    }\n",
       "\n",
       "    .dataframe tbody tr th {\n",
       "        vertical-align: top;\n",
       "    }\n",
       "\n",
       "    .dataframe thead th {\n",
       "        text-align: right;\n",
       "    }\n",
       "</style>\n",
       "<table border=\"1\" class=\"dataframe\">\n",
       "  <thead>\n",
       "    <tr style=\"text-align: right;\">\n",
       "      <th></th>\n",
       "      <th>15</th>\n",
       "      <th>18</th>\n",
       "    </tr>\n",
       "  </thead>\n",
       "  <tbody>\n",
       "    <tr>\n",
       "      <th>1</th>\n",
       "      <td>5.0</td>\n",
       "      <td>4.0</td>\n",
       "    </tr>\n",
       "    <tr>\n",
       "      <th>14</th>\n",
       "      <td>4.0</td>\n",
       "      <td>3.0</td>\n",
       "    </tr>\n",
       "    <tr>\n",
       "      <th>15</th>\n",
       "      <td>4.0</td>\n",
       "      <td>1.0</td>\n",
       "    </tr>\n",
       "    <tr>\n",
       "      <th>59</th>\n",
       "      <td>5.0</td>\n",
       "      <td>4.0</td>\n",
       "    </tr>\n",
       "    <tr>\n",
       "      <th>181</th>\n",
       "      <td>3.0</td>\n",
       "      <td>1.0</td>\n",
       "    </tr>\n",
       "    <tr>\n",
       "      <th>207</th>\n",
       "      <td>4.0</td>\n",
       "      <td>2.0</td>\n",
       "    </tr>\n",
       "    <tr>\n",
       "      <th>655</th>\n",
       "      <td>3.0</td>\n",
       "      <td>3.0</td>\n",
       "    </tr>\n",
       "  </tbody>\n",
       "</table>\n",
       "</div>"
      ],
      "text/plain": [
       "      15   18\n",
       "1    5.0  4.0\n",
       "14   4.0  3.0\n",
       "15   4.0  1.0\n",
       "59   5.0  4.0\n",
       "181  3.0  1.0\n",
       "207  4.0  2.0\n",
       "655  3.0  3.0"
      ]
     },
     "execution_count": 35,
     "metadata": {},
     "output_type": "execute_result"
    }
   ],
   "source": [
    "print(\"Reviewers' scores:\")\n",
    "R_df.loc[users_who_ranked_both_items, [15, 18]]"
   ]
  },
  {
   "cell_type": "markdown",
   "metadata": {
    "colab_type": "text",
    "id": "RhBrZRgRMpHT"
   },
   "source": [
    "Now we can judge how similar the ratings between items 15 and 18 are."
   ]
  },
  {
   "cell_type": "code",
   "execution_count": 36,
   "metadata": {
    "colab": {},
    "colab_type": "code",
    "id": "odzQIEVTMpHW",
    "outputId": "74922167-142d-4d84-a798-3b4e647f49e8"
   },
   "outputs": [
    {
     "name": "stdout",
     "output_type": "stream",
     "text": [
      "Similarity: 0.9429541672723838\n"
     ]
    }
   ],
   "source": [
    "print(\"Similarity:\", cosine_similarity(R_df.loc[users_who_ranked_both_items, 15].values.reshape(1,-1), \n",
    "                                       R_df.loc[users_who_ranked_both_items, 18].values.reshape(1,-1))[0][0])"
   ]
  },
  {
   "cell_type": "markdown",
   "metadata": {
    "colab_type": "text",
    "id": "-_TUa2qqMpH2"
   },
   "source": [
    "### Making Predictions \n",
    "\n",
    "Now that we can measure how similar two items are we can use this information to make a prediction. The idea behind item-item filtering is the review user $u$ gives to item $i$ ($R_{um}$) should be similar to the review $u$ gives to a similar item $n$ ($R_{un}$), if items $m$ and $n$ are similar. \n",
    "\n",
    "We can start with an idea similar to what we did with user-item predictions. We'll define a set of items similar to $m$ that user $u$ reviewed. We can take the average rating for each item in this list and use it as the value for $R_{um}$. This time $C$ is our number of total movies:\n",
    "\n",
    "$$\\hat{R_{um}} = \\frac{\\sum_{n=1}^C R_{un} \\cdot \\text{item_similarity}(m, n)}{\\sum_{n=1}^C \\text{item_similarity(m, n)}}$$"
   ]
  },
  {
   "cell_type": "markdown",
   "metadata": {},
   "source": [
    "#### Exercise 1\n",
    "\n",
    "1. Finish implementing the item-item similarity function, the function should return -1, 0 if no users rated both items (look at the previous similarity function), and the similarity of the two items and number of reviewers otherwise.\n",
    "\n",
    "    Use this function to predict the rating user 16 would give movie 2. How does this compare with the previous result (user-item)?"
   ]
  },
  {
   "cell_type": "markdown",
   "metadata": {},
   "source": [
    "#### Solutions"
   ]
  },
  {
   "cell_type": "code",
   "execution_count": 40,
   "metadata": {},
   "outputs": [],
   "source": [
    "def find_item_similarity(item_1, item_2, R_df):\n",
    "    \n",
    "    # Define the mask which finds users who rated both items\n",
    "    users_who_reviewed_1st_item = R_df.loc[:, item_1].notna()\n",
    "    users_who_reviewed_2nd_item = R_df.loc[:, item_2].notna()\n",
    "\n",
    "    users_who_reviewed_both_items = users_who_reviewed_1st_item & users_who_reviewed_2nd_item\n",
    "    \n",
    "    # Find how many users rated both items\n",
    "    number_of_users = users_who_reviewed_both_items.sum()\n",
    "    \n",
    "    # Find the ratings of both users for movies they both watched\n",
    "    ratings_of_item1 = R_df.loc[users_who_reviewed_both_items, item_1].values.reshape(1, -1)\n",
    "    ratings_of_item2 = R_df.loc[users_who_reviewed_both_items, item_2].values.reshape(1, -1)\n",
    "    \n",
    "    # Finally, calculate the similarity between them\n",
    "    similarity = cosine_similarity(ratings_of_item1, ratings_of_item2)[0][0]\n",
    "    \n",
    "    return similarity, number_of_users"
   ]
  },
  {
   "cell_type": "code",
   "execution_count": 41,
   "metadata": {},
   "outputs": [],
   "source": [
    "current_user = 16 # we will only do this to user 16 for demonstration purposes\n",
    "current_movie = 2\n",
    "similarities_to_movie_2 = []\n",
    "ratings_given_by_user_16 = []\n",
    "\n",
    "# Find only the items rated by user 16 (columns)\n",
    "R_df3 = R_df.loc[:,~R_df.iloc[15,:].isna()].copy()\n",
    "\n",
    "for other_movie in R_df3.columns:\n",
    "    \n",
    "    similarity, number_of_user_rated = find_item_similarity(current_movie, \n",
    "                                                                other_movie, \n",
    "                                                                R_df)\n",
    "    # Append similarity and ratings\n",
    "    similarities_to_movie_2.append(similarity)\n",
    "    ratings_given_by_user_16.append(R_df.loc[current_user, other_movie])\n",
    "            \n",
    "# Finally, let's turn these into numpy arrays so life is easier\n",
    "similarities_to_movie_2 = np.array(similarities_to_movie_2)\n",
    "ratings_given_by_user_16 = np.array(ratings_given_by_user_16)"
   ]
  },
  {
   "cell_type": "code",
   "execution_count": 42,
   "metadata": {},
   "outputs": [
    {
     "name": "stdout",
     "output_type": "stream",
     "text": [
      "Predicted rating for movie 2 by user 16 is 4.33\n"
     ]
    }
   ],
   "source": [
    "predicted_rating = np.dot(ratings_given_by_user_16, similarities_to_movie_2)/np.sum(similarities_to_movie_2)\n",
    "\n",
    "print(f'Predicted rating for movie 2 by user 16 is {round(predicted_rating, 2)}')"
   ]
  },
  {
   "cell_type": "markdown",
   "metadata": {
    "colab_type": "text",
    "id": "tqElYGLcMpH4"
   },
   "source": [
    "### Memory Based Filtering\n",
    "\n",
    "These two methods are instances of what are generally known as memory based filtering. While there is no hard definition, it is generally understood to mean methods which work by using the entire set of user and item reviews  calculating the relevant information from this matrix."
   ]
  },
  {
   "cell_type": "markdown",
   "metadata": {
    "colab_type": "text",
    "id": "AacQdVgUMpIw"
   },
   "source": [
    "### Collaborative  System Review\n",
    "\n",
    "Collaborative filtering is a powerful family of methods which leverage the decisions made by groups of users to make predictions. These models form the basis of various real world system and they tend to perform well in practice.\n",
    "\n",
    "That being said, there are drawbacks to collaborative systems. One of the biggest issues is the size and sparsity of the data. Consider the user-item matrix in our previous example. This matrix is huge, and it's from a pretty small example. Imagine the Amazon user-item data set: there are over three-hundred million active users and almost half a billion products. There's no way we could run our algorithms on it very frequently (if ever).\n",
    "\n",
    "-------"
   ]
  },
  {
   "cell_type": "markdown",
   "metadata": {},
   "source": [
    "### Matrix Factorization Methods and Latent Features\n",
    "\n",
    "The last method we are going to discuss is the matrix factorization method. Consider the imaginary case where we have only four movies and three users, and we know all the ratings. That is, we have the following utility matrix:\n",
    "\n",
    "$$R = \\begin{bmatrix} 4 & 1 & 1 & 5\\\\ 5 & 5 & 2 & 1\\\\ 3 & 5 & 4 & 3\\end{bmatrix}$$\n",
    "\n",
    "\n",
    "We can imagine that we can decompose this matrix into two other matrices, $U$ (for users) and $M$ (for movies), where \n",
    "\n",
    "$$U \\cdot M = R$$\n",
    "\n",
    "We can also imagine that we need to define the shape of $U$ and $M$. Let's say we want $U$ to be a $3\\times 3$ matrix and $M$ to be a $3\\times 4$ matrix.\n",
    "\n",
    "\n",
    "Through a bit of math that we won't discuss now, we can find two matrices which satisfy our demands. Their approximate values will be:\n",
    "\n",
    "\n",
    "$$U = \\begin{bmatrix} 0.029 & 2.898 & 0.46\\\\ 2.33 & 0.61 & 0.0\\\\ 0.561 & 0.0 &1.87\\end{bmatrix}$$\n",
    "\n",
    "and \n",
    "\n",
    "\n",
    "$$M = \\begin{bmatrix} 1.78 & 2.13 & 0.75 & 0.0\\\\ 1.36 & 0.0 & 0.37 & 1.63\\\\ 0.0 & 2.03 & 1.91 & 0.53\\end{bmatrix}$$\n",
    "\n",
    "\n",
    "We've now decomposed the rating matrix into a matrix that tells us something about users and movies. The columns of the $U$ matrix and rows of the $M$ matrix tell us something about each user and movie, it tells us about some _latent_ (hidden) variables for each user and movie.\n",
    "\n",
    "To find out what the latent variables are, we need to know more about items being rated.\n",
    "\n",
    "Imagine our rating matrix was actually labeled like so:\n",
    "\n",
    "|User  | Finding Nemo |  Thor  | Thor: Ragnarok |  Finding Dory  |\n",
    "|------|--------------|--------|----------------|----------------|\n",
    "|Bob   |   4          | 1      |   1            | 5              |\n",
    "|Sally |   5          | 5      |   2            | 1              |\n",
    "|Shila |   3          | 5      |   4            | 3              |\n",
    "\n",
    "This means our user matrix is as follows:\n",
    "\n",
    "|      | Latent Variable1 |  Latent Variable2  | Latent Variable3|\n",
    "|------|------------------|--------------------|-----------------|\n",
    "|Bob   |   0.29           |         2.89       |   0.46          |\n",
    "|Sally |   2.33           | 0.61               |   0.0           |\n",
    "|Shila |   0.56           | 0.0                |   1.87          |\n",
    "\n",
    "\n",
    "and our movie matrix is as follows:\n",
    "\n",
    "|                 | Finding Nemo |  Thor  | Thor: Ragnarok |  Finding Dory  |\n",
    "|-----------------|--------------|--------|----------------|----------------|\n",
    "|Latent Variable1 |   1.78       | 2.13   |   0.75         | 0.0            |\n",
    "|Latent Variable2 |   1.36       | 0.0    |   0.37         | 1.63           |\n",
    "|Latent Variable3 |   0.0        | 2.03   |   1.91         | 0.53           |\n",
    "\n",
    "\n",
    "Latent variable 1 seems to be concerned with original movies vs sequels (Finding Nemo vs Finding Dory, and Thor vs Thor: Ragnarok). Latent variable 2 seems to be concerned with CG movies (or movies about marine life, we're not sure). Finally, latent variable 3 seems to be most active with Chris Hemsworth movies (or Marvel movies).\n",
    "\n",
    "\n",
    "Looking at our users, we can see that Bob is very high in his score of latent variable 2, he likes CG movies about marine life. Sally, on the other hand, is mostly concerned with originals vs sequels. Finally, Shila is interested in Marvel movies or Chris Hemsworth movies. Now we know something about each user and each movie that wasn't explicit in the data provided, we had to infer it by inspecting the movies and users.\n",
    "\n",
    "To be clear, we could programmatically find the values of the latent variables, but we had to perform manual inspection to understand what the variables represent."
   ]
  },
  {
   "cell_type": "markdown",
   "metadata": {},
   "source": [
    "### Funk Singular Value Decomposition (FunkSVD)\n",
    "\n",
    "Actually, we can't use traditional matrix factorization techniques on our rating matrix. Recall what our rating matrix looks like"
   ]
  },
  {
   "cell_type": "code",
   "execution_count": 43,
   "metadata": {},
   "outputs": [
    {
     "data": {
      "text/html": [
       "<div>\n",
       "<style scoped>\n",
       "    .dataframe tbody tr th:only-of-type {\n",
       "        vertical-align: middle;\n",
       "    }\n",
       "\n",
       "    .dataframe tbody tr th {\n",
       "        vertical-align: top;\n",
       "    }\n",
       "\n",
       "    .dataframe thead th {\n",
       "        text-align: right;\n",
       "    }\n",
       "</style>\n",
       "<table border=\"1\" class=\"dataframe\">\n",
       "  <thead>\n",
       "    <tr style=\"text-align: right;\">\n",
       "      <th></th>\n",
       "      <th>1</th>\n",
       "      <th>2</th>\n",
       "      <th>3</th>\n",
       "      <th>4</th>\n",
       "      <th>5</th>\n",
       "      <th>6</th>\n",
       "      <th>7</th>\n",
       "      <th>8</th>\n",
       "      <th>9</th>\n",
       "      <th>10</th>\n",
       "      <th>...</th>\n",
       "      <th>1673</th>\n",
       "      <th>1674</th>\n",
       "      <th>1675</th>\n",
       "      <th>1676</th>\n",
       "      <th>1677</th>\n",
       "      <th>1678</th>\n",
       "      <th>1679</th>\n",
       "      <th>1680</th>\n",
       "      <th>1681</th>\n",
       "      <th>1682</th>\n",
       "    </tr>\n",
       "  </thead>\n",
       "  <tbody>\n",
       "    <tr>\n",
       "      <th>1</th>\n",
       "      <td>5.0</td>\n",
       "      <td>3.0</td>\n",
       "      <td>4.0</td>\n",
       "      <td>3.0</td>\n",
       "      <td>3.0</td>\n",
       "      <td>5.0</td>\n",
       "      <td>4.0</td>\n",
       "      <td>1.0</td>\n",
       "      <td>5.0</td>\n",
       "      <td>3.0</td>\n",
       "      <td>...</td>\n",
       "      <td>NaN</td>\n",
       "      <td>NaN</td>\n",
       "      <td>NaN</td>\n",
       "      <td>NaN</td>\n",
       "      <td>NaN</td>\n",
       "      <td>NaN</td>\n",
       "      <td>NaN</td>\n",
       "      <td>NaN</td>\n",
       "      <td>NaN</td>\n",
       "      <td>NaN</td>\n",
       "    </tr>\n",
       "    <tr>\n",
       "      <th>2</th>\n",
       "      <td>4.0</td>\n",
       "      <td>NaN</td>\n",
       "      <td>NaN</td>\n",
       "      <td>NaN</td>\n",
       "      <td>NaN</td>\n",
       "      <td>NaN</td>\n",
       "      <td>NaN</td>\n",
       "      <td>NaN</td>\n",
       "      <td>NaN</td>\n",
       "      <td>2.0</td>\n",
       "      <td>...</td>\n",
       "      <td>NaN</td>\n",
       "      <td>NaN</td>\n",
       "      <td>NaN</td>\n",
       "      <td>NaN</td>\n",
       "      <td>NaN</td>\n",
       "      <td>NaN</td>\n",
       "      <td>NaN</td>\n",
       "      <td>NaN</td>\n",
       "      <td>NaN</td>\n",
       "      <td>NaN</td>\n",
       "    </tr>\n",
       "    <tr>\n",
       "      <th>3</th>\n",
       "      <td>NaN</td>\n",
       "      <td>NaN</td>\n",
       "      <td>NaN</td>\n",
       "      <td>NaN</td>\n",
       "      <td>NaN</td>\n",
       "      <td>NaN</td>\n",
       "      <td>NaN</td>\n",
       "      <td>NaN</td>\n",
       "      <td>NaN</td>\n",
       "      <td>NaN</td>\n",
       "      <td>...</td>\n",
       "      <td>NaN</td>\n",
       "      <td>NaN</td>\n",
       "      <td>NaN</td>\n",
       "      <td>NaN</td>\n",
       "      <td>NaN</td>\n",
       "      <td>NaN</td>\n",
       "      <td>NaN</td>\n",
       "      <td>NaN</td>\n",
       "      <td>NaN</td>\n",
       "      <td>NaN</td>\n",
       "    </tr>\n",
       "    <tr>\n",
       "      <th>4</th>\n",
       "      <td>NaN</td>\n",
       "      <td>NaN</td>\n",
       "      <td>NaN</td>\n",
       "      <td>NaN</td>\n",
       "      <td>NaN</td>\n",
       "      <td>NaN</td>\n",
       "      <td>NaN</td>\n",
       "      <td>NaN</td>\n",
       "      <td>NaN</td>\n",
       "      <td>NaN</td>\n",
       "      <td>...</td>\n",
       "      <td>NaN</td>\n",
       "      <td>NaN</td>\n",
       "      <td>NaN</td>\n",
       "      <td>NaN</td>\n",
       "      <td>NaN</td>\n",
       "      <td>NaN</td>\n",
       "      <td>NaN</td>\n",
       "      <td>NaN</td>\n",
       "      <td>NaN</td>\n",
       "      <td>NaN</td>\n",
       "    </tr>\n",
       "    <tr>\n",
       "      <th>5</th>\n",
       "      <td>4.0</td>\n",
       "      <td>3.0</td>\n",
       "      <td>NaN</td>\n",
       "      <td>NaN</td>\n",
       "      <td>NaN</td>\n",
       "      <td>NaN</td>\n",
       "      <td>NaN</td>\n",
       "      <td>NaN</td>\n",
       "      <td>NaN</td>\n",
       "      <td>NaN</td>\n",
       "      <td>...</td>\n",
       "      <td>NaN</td>\n",
       "      <td>NaN</td>\n",
       "      <td>NaN</td>\n",
       "      <td>NaN</td>\n",
       "      <td>NaN</td>\n",
       "      <td>NaN</td>\n",
       "      <td>NaN</td>\n",
       "      <td>NaN</td>\n",
       "      <td>NaN</td>\n",
       "      <td>NaN</td>\n",
       "    </tr>\n",
       "    <tr>\n",
       "      <th>...</th>\n",
       "      <td>...</td>\n",
       "      <td>...</td>\n",
       "      <td>...</td>\n",
       "      <td>...</td>\n",
       "      <td>...</td>\n",
       "      <td>...</td>\n",
       "      <td>...</td>\n",
       "      <td>...</td>\n",
       "      <td>...</td>\n",
       "      <td>...</td>\n",
       "      <td>...</td>\n",
       "      <td>...</td>\n",
       "      <td>...</td>\n",
       "      <td>...</td>\n",
       "      <td>...</td>\n",
       "      <td>...</td>\n",
       "      <td>...</td>\n",
       "      <td>...</td>\n",
       "      <td>...</td>\n",
       "      <td>...</td>\n",
       "      <td>...</td>\n",
       "    </tr>\n",
       "    <tr>\n",
       "      <th>939</th>\n",
       "      <td>NaN</td>\n",
       "      <td>NaN</td>\n",
       "      <td>NaN</td>\n",
       "      <td>NaN</td>\n",
       "      <td>NaN</td>\n",
       "      <td>NaN</td>\n",
       "      <td>NaN</td>\n",
       "      <td>NaN</td>\n",
       "      <td>5.0</td>\n",
       "      <td>NaN</td>\n",
       "      <td>...</td>\n",
       "      <td>NaN</td>\n",
       "      <td>NaN</td>\n",
       "      <td>NaN</td>\n",
       "      <td>NaN</td>\n",
       "      <td>NaN</td>\n",
       "      <td>NaN</td>\n",
       "      <td>NaN</td>\n",
       "      <td>NaN</td>\n",
       "      <td>NaN</td>\n",
       "      <td>NaN</td>\n",
       "    </tr>\n",
       "    <tr>\n",
       "      <th>940</th>\n",
       "      <td>NaN</td>\n",
       "      <td>NaN</td>\n",
       "      <td>NaN</td>\n",
       "      <td>2.0</td>\n",
       "      <td>NaN</td>\n",
       "      <td>NaN</td>\n",
       "      <td>4.0</td>\n",
       "      <td>5.0</td>\n",
       "      <td>3.0</td>\n",
       "      <td>NaN</td>\n",
       "      <td>...</td>\n",
       "      <td>NaN</td>\n",
       "      <td>NaN</td>\n",
       "      <td>NaN</td>\n",
       "      <td>NaN</td>\n",
       "      <td>NaN</td>\n",
       "      <td>NaN</td>\n",
       "      <td>NaN</td>\n",
       "      <td>NaN</td>\n",
       "      <td>NaN</td>\n",
       "      <td>NaN</td>\n",
       "    </tr>\n",
       "    <tr>\n",
       "      <th>941</th>\n",
       "      <td>5.0</td>\n",
       "      <td>NaN</td>\n",
       "      <td>NaN</td>\n",
       "      <td>NaN</td>\n",
       "      <td>NaN</td>\n",
       "      <td>NaN</td>\n",
       "      <td>4.0</td>\n",
       "      <td>NaN</td>\n",
       "      <td>NaN</td>\n",
       "      <td>NaN</td>\n",
       "      <td>...</td>\n",
       "      <td>NaN</td>\n",
       "      <td>NaN</td>\n",
       "      <td>NaN</td>\n",
       "      <td>NaN</td>\n",
       "      <td>NaN</td>\n",
       "      <td>NaN</td>\n",
       "      <td>NaN</td>\n",
       "      <td>NaN</td>\n",
       "      <td>NaN</td>\n",
       "      <td>NaN</td>\n",
       "    </tr>\n",
       "    <tr>\n",
       "      <th>942</th>\n",
       "      <td>NaN</td>\n",
       "      <td>NaN</td>\n",
       "      <td>NaN</td>\n",
       "      <td>NaN</td>\n",
       "      <td>NaN</td>\n",
       "      <td>NaN</td>\n",
       "      <td>NaN</td>\n",
       "      <td>NaN</td>\n",
       "      <td>NaN</td>\n",
       "      <td>NaN</td>\n",
       "      <td>...</td>\n",
       "      <td>NaN</td>\n",
       "      <td>NaN</td>\n",
       "      <td>NaN</td>\n",
       "      <td>NaN</td>\n",
       "      <td>NaN</td>\n",
       "      <td>NaN</td>\n",
       "      <td>NaN</td>\n",
       "      <td>NaN</td>\n",
       "      <td>NaN</td>\n",
       "      <td>NaN</td>\n",
       "    </tr>\n",
       "    <tr>\n",
       "      <th>943</th>\n",
       "      <td>NaN</td>\n",
       "      <td>5.0</td>\n",
       "      <td>NaN</td>\n",
       "      <td>NaN</td>\n",
       "      <td>NaN</td>\n",
       "      <td>NaN</td>\n",
       "      <td>NaN</td>\n",
       "      <td>NaN</td>\n",
       "      <td>3.0</td>\n",
       "      <td>NaN</td>\n",
       "      <td>...</td>\n",
       "      <td>NaN</td>\n",
       "      <td>NaN</td>\n",
       "      <td>NaN</td>\n",
       "      <td>NaN</td>\n",
       "      <td>NaN</td>\n",
       "      <td>NaN</td>\n",
       "      <td>NaN</td>\n",
       "      <td>NaN</td>\n",
       "      <td>NaN</td>\n",
       "      <td>NaN</td>\n",
       "    </tr>\n",
       "  </tbody>\n",
       "</table>\n",
       "<p>943 rows × 1682 columns</p>\n",
       "</div>"
      ],
      "text/plain": [
       "     1     2     3     4     5     6     7     8     9     10    ...  1673  \\\n",
       "1     5.0   3.0   4.0   3.0   3.0   5.0   4.0   1.0   5.0   3.0  ...   NaN   \n",
       "2     4.0   NaN   NaN   NaN   NaN   NaN   NaN   NaN   NaN   2.0  ...   NaN   \n",
       "3     NaN   NaN   NaN   NaN   NaN   NaN   NaN   NaN   NaN   NaN  ...   NaN   \n",
       "4     NaN   NaN   NaN   NaN   NaN   NaN   NaN   NaN   NaN   NaN  ...   NaN   \n",
       "5     4.0   3.0   NaN   NaN   NaN   NaN   NaN   NaN   NaN   NaN  ...   NaN   \n",
       "..    ...   ...   ...   ...   ...   ...   ...   ...   ...   ...  ...   ...   \n",
       "939   NaN   NaN   NaN   NaN   NaN   NaN   NaN   NaN   5.0   NaN  ...   NaN   \n",
       "940   NaN   NaN   NaN   2.0   NaN   NaN   4.0   5.0   3.0   NaN  ...   NaN   \n",
       "941   5.0   NaN   NaN   NaN   NaN   NaN   4.0   NaN   NaN   NaN  ...   NaN   \n",
       "942   NaN   NaN   NaN   NaN   NaN   NaN   NaN   NaN   NaN   NaN  ...   NaN   \n",
       "943   NaN   5.0   NaN   NaN   NaN   NaN   NaN   NaN   3.0   NaN  ...   NaN   \n",
       "\n",
       "     1674  1675  1676  1677  1678  1679  1680  1681  1682  \n",
       "1     NaN   NaN   NaN   NaN   NaN   NaN   NaN   NaN   NaN  \n",
       "2     NaN   NaN   NaN   NaN   NaN   NaN   NaN   NaN   NaN  \n",
       "3     NaN   NaN   NaN   NaN   NaN   NaN   NaN   NaN   NaN  \n",
       "4     NaN   NaN   NaN   NaN   NaN   NaN   NaN   NaN   NaN  \n",
       "5     NaN   NaN   NaN   NaN   NaN   NaN   NaN   NaN   NaN  \n",
       "..    ...   ...   ...   ...   ...   ...   ...   ...   ...  \n",
       "939   NaN   NaN   NaN   NaN   NaN   NaN   NaN   NaN   NaN  \n",
       "940   NaN   NaN   NaN   NaN   NaN   NaN   NaN   NaN   NaN  \n",
       "941   NaN   NaN   NaN   NaN   NaN   NaN   NaN   NaN   NaN  \n",
       "942   NaN   NaN   NaN   NaN   NaN   NaN   NaN   NaN   NaN  \n",
       "943   NaN   NaN   NaN   NaN   NaN   NaN   NaN   NaN   NaN  \n",
       "\n",
       "[943 rows x 1682 columns]"
      ]
     },
     "execution_count": 43,
     "metadata": {},
     "output_type": "execute_result"
    }
   ],
   "source": [
    "R_df"
   ]
  },
  {
   "cell_type": "markdown",
   "metadata": {},
   "source": [
    "It's mostly filled with NaN values, and we can't impute them because that will throw off the mathematical methods. **So what do we do?**\n",
    "\n",
    "Well, we are going to use a method called [FunkSVD](https://sifter.org/~simon/journal/20061211.html) (which stands for Funk Singular Value Decomposition, invented by Simon Funk). This method treats this as an optimization problem.\n",
    "\n",
    "We have our matrix with known values, and we want to find $x$ latent variables. We will try and find two matrices; $U$ and $M$ which get as close as possible to the values we DO know.\n",
    "\n",
    "This method is implemented in the `surprise` package ([more documentation here](https://surprise.readthedocs.io/en/stable/matrix_factorization.html))."
   ]
  },
  {
   "cell_type": "code",
   "execution_count": 44,
   "metadata": {},
   "outputs": [],
   "source": [
    "from surprise import Dataset\n",
    "from surprise.reader import Reader\n",
    "from surprise.prediction_algorithms.matrix_factorization import SVD as FunkSVD"
   ]
  },
  {
   "cell_type": "markdown",
   "metadata": {},
   "source": [
    "Because of the way FunkSVD in `surprise` works, it assigns each user with a value starting at 0. It also does so by the order it has seen users (it doesn't assume user will be recorded as numbers, we can have unique string IDs there and the algorithm will work just the same).\n",
    "\n",
    "Let's sort the dataframe so we have a slightly easier time making sense of the conversion FunkSVD does"
   ]
  },
  {
   "cell_type": "code",
   "execution_count": 45,
   "metadata": {},
   "outputs": [
    {
     "data": {
      "text/html": [
       "<div>\n",
       "<style scoped>\n",
       "    .dataframe tbody tr th:only-of-type {\n",
       "        vertical-align: middle;\n",
       "    }\n",
       "\n",
       "    .dataframe tbody tr th {\n",
       "        vertical-align: top;\n",
       "    }\n",
       "\n",
       "    .dataframe thead th {\n",
       "        text-align: right;\n",
       "    }\n",
       "</style>\n",
       "<table border=\"1\" class=\"dataframe\">\n",
       "  <thead>\n",
       "    <tr style=\"text-align: right;\">\n",
       "      <th></th>\n",
       "      <th>user</th>\n",
       "      <th>movie</th>\n",
       "      <th>score</th>\n",
       "    </tr>\n",
       "  </thead>\n",
       "  <tbody>\n",
       "    <tr>\n",
       "      <th>32236</th>\n",
       "      <td>1</td>\n",
       "      <td>1</td>\n",
       "      <td>5</td>\n",
       "    </tr>\n",
       "    <tr>\n",
       "      <th>23171</th>\n",
       "      <td>1</td>\n",
       "      <td>2</td>\n",
       "      <td>3</td>\n",
       "    </tr>\n",
       "    <tr>\n",
       "      <th>83307</th>\n",
       "      <td>1</td>\n",
       "      <td>3</td>\n",
       "      <td>4</td>\n",
       "    </tr>\n",
       "    <tr>\n",
       "      <th>62631</th>\n",
       "      <td>1</td>\n",
       "      <td>4</td>\n",
       "      <td>3</td>\n",
       "    </tr>\n",
       "    <tr>\n",
       "      <th>47638</th>\n",
       "      <td>1</td>\n",
       "      <td>5</td>\n",
       "      <td>3</td>\n",
       "    </tr>\n",
       "  </tbody>\n",
       "</table>\n",
       "</div>"
      ],
      "text/plain": [
       "       user  movie  score\n",
       "32236     1      1      5\n",
       "23171     1      2      3\n",
       "83307     1      3      4\n",
       "62631     1      4      3\n",
       "47638     1      5      3"
      ]
     },
     "execution_count": 45,
     "metadata": {},
     "output_type": "execute_result"
    }
   ],
   "source": [
    "original_df = df.sort_values(by=['user', 'movie'])\n",
    "original_df.head()"
   ]
  },
  {
   "cell_type": "markdown",
   "metadata": {},
   "source": [
    "We need to load our dataframe as a special `Dataset` object from `surprise`"
   ]
  },
  {
   "cell_type": "code",
   "execution_count": 46,
   "metadata": {},
   "outputs": [],
   "source": [
    "my_dataset = Dataset.load_from_df(original_df, Reader(rating_scale=(1, 5)))\n",
    "my_train_dataset = my_dataset.build_full_trainset()"
   ]
  },
  {
   "cell_type": "code",
   "execution_count": 47,
   "metadata": {},
   "outputs": [
    {
     "data": {
      "text/plain": [
       "<surprise.trainset.Trainset at 0x7fc5735723d0>"
      ]
     },
     "execution_count": 47,
     "metadata": {},
     "output_type": "execute_result"
    }
   ],
   "source": [
    "my_train_dataset"
   ]
  },
  {
   "cell_type": "markdown",
   "metadata": {},
   "source": [
    "Now all we do is initialize the algorithm, specify the number of latent variables and iterations we'd like to use, and then let the algorithm run."
   ]
  },
  {
   "cell_type": "code",
   "execution_count": 48,
   "metadata": {},
   "outputs": [
    {
     "data": {
      "text/plain": [
       "<surprise.prediction_algorithms.matrix_factorization.SVD at 0x7fc55a08c5b0>"
      ]
     },
     "execution_count": 48,
     "metadata": {},
     "output_type": "execute_result"
    }
   ],
   "source": [
    "my_algorithm = FunkSVD(n_factors=10, \n",
    "                       n_epochs=100, \n",
    "                       lr_all=0.1,    # Learning rate for each epoch\n",
    "                       biased=False,  # This forces the algorithm to store all latent information in the matrices\n",
    "                       verbose=0)\n",
    "\n",
    "my_algorithm.fit(my_train_dataset)"
   ]
  },
  {
   "cell_type": "markdown",
   "metadata": {},
   "source": [
    "The user matrix is stored under the `SVD.pu` attribute"
   ]
  },
  {
   "cell_type": "code",
   "execution_count": 49,
   "metadata": {},
   "outputs": [
    {
     "data": {
      "text/plain": [
       "(943, 10)"
      ]
     },
     "execution_count": 49,
     "metadata": {},
     "output_type": "execute_result"
    }
   ],
   "source": [
    "U = my_algorithm.pu\n",
    "U.shape"
   ]
  },
  {
   "cell_type": "markdown",
   "metadata": {},
   "source": [
    "and the movie matrix is stored under the `SVD,qi` attribute, notice it is transposed"
   ]
  },
  {
   "cell_type": "code",
   "execution_count": 50,
   "metadata": {},
   "outputs": [
    {
     "data": {
      "text/plain": [
       "(10, 1682)"
      ]
     },
     "execution_count": 50,
     "metadata": {},
     "output_type": "execute_result"
    }
   ],
   "source": [
    "M = my_algorithm.qi.T\n",
    "M.shape"
   ]
  },
  {
   "cell_type": "markdown",
   "metadata": {},
   "source": [
    "If we had more information about each item, we could begin exploring what the latent factors are by picking a movie"
   ]
  },
  {
   "cell_type": "code",
   "execution_count": 51,
   "metadata": {},
   "outputs": [
    {
     "data": {
      "image/png": "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\n",
      "text/plain": [
       "<Figure size 1080x504 with 1 Axes>"
      ]
     },
     "metadata": {
      "needs_background": "light"
     },
     "output_type": "display_data"
    }
   ],
   "source": [
    "first_movie = M[:, 0]\n",
    "\n",
    "plt.figure(figsize=(15, 7))\n",
    "plt.barh([f'Latent Var{i}' for i in range(1,len(first_movie)+1)], first_movie)\n",
    "plt.title(\"Latent Variable Composition of Movie #1\")\n",
    "plt.ylabel(\"Latent Variable\")\n",
    "plt.xlabel(\"Value\")\n",
    "plt.show()"
   ]
  },
  {
   "cell_type": "markdown",
   "metadata": {},
   "source": [
    "However, what we _can_ do is now make new predictions. Let's explore our original movie rating data:"
   ]
  },
  {
   "cell_type": "code",
   "execution_count": 52,
   "metadata": {},
   "outputs": [
    {
     "data": {
      "text/html": [
       "<div>\n",
       "<style scoped>\n",
       "    .dataframe tbody tr th:only-of-type {\n",
       "        vertical-align: middle;\n",
       "    }\n",
       "\n",
       "    .dataframe tbody tr th {\n",
       "        vertical-align: top;\n",
       "    }\n",
       "\n",
       "    .dataframe thead th {\n",
       "        text-align: right;\n",
       "    }\n",
       "</style>\n",
       "<table border=\"1\" class=\"dataframe\">\n",
       "  <thead>\n",
       "    <tr style=\"text-align: right;\">\n",
       "      <th></th>\n",
       "      <th>1</th>\n",
       "      <th>2</th>\n",
       "      <th>3</th>\n",
       "      <th>4</th>\n",
       "      <th>5</th>\n",
       "    </tr>\n",
       "  </thead>\n",
       "  <tbody>\n",
       "    <tr>\n",
       "      <th>1</th>\n",
       "      <td>5.0</td>\n",
       "      <td>3.0</td>\n",
       "      <td>4.0</td>\n",
       "      <td>3.0</td>\n",
       "      <td>3.0</td>\n",
       "    </tr>\n",
       "    <tr>\n",
       "      <th>2</th>\n",
       "      <td>4.0</td>\n",
       "      <td>NaN</td>\n",
       "      <td>NaN</td>\n",
       "      <td>NaN</td>\n",
       "      <td>NaN</td>\n",
       "    </tr>\n",
       "    <tr>\n",
       "      <th>3</th>\n",
       "      <td>NaN</td>\n",
       "      <td>NaN</td>\n",
       "      <td>NaN</td>\n",
       "      <td>NaN</td>\n",
       "      <td>NaN</td>\n",
       "    </tr>\n",
       "    <tr>\n",
       "      <th>4</th>\n",
       "      <td>NaN</td>\n",
       "      <td>NaN</td>\n",
       "      <td>NaN</td>\n",
       "      <td>NaN</td>\n",
       "      <td>NaN</td>\n",
       "    </tr>\n",
       "    <tr>\n",
       "      <th>5</th>\n",
       "      <td>4.0</td>\n",
       "      <td>3.0</td>\n",
       "      <td>NaN</td>\n",
       "      <td>NaN</td>\n",
       "      <td>NaN</td>\n",
       "    </tr>\n",
       "  </tbody>\n",
       "</table>\n",
       "</div>"
      ],
      "text/plain": [
       "     1    2    3    4    5\n",
       "1  5.0  3.0  4.0  3.0  3.0\n",
       "2  4.0  NaN  NaN  NaN  NaN\n",
       "3  NaN  NaN  NaN  NaN  NaN\n",
       "4  NaN  NaN  NaN  NaN  NaN\n",
       "5  4.0  3.0  NaN  NaN  NaN"
      ]
     },
     "execution_count": 52,
     "metadata": {},
     "output_type": "execute_result"
    }
   ],
   "source": [
    "R_df.iloc[:5, :5]"
   ]
  },
  {
   "cell_type": "markdown",
   "metadata": {},
   "source": [
    "We know the rating user 1 gave movie 2 (it's 3.0), so let's use this to demonstrate how we calculate ratings using these latent factors.\n",
    "\n",
    "First, we grab the user profile"
   ]
  },
  {
   "cell_type": "code",
   "execution_count": 53,
   "metadata": {},
   "outputs": [
    {
     "data": {
      "text/plain": [
       "array([ 0.780187  ,  0.23095714, -0.97923491, -0.02019899,  0.92860451,\n",
       "       -0.37259041,  0.34383403, -0.26241571,  0.75935575, -1.34781543])"
      ]
     },
     "execution_count": 53,
     "metadata": {},
     "output_type": "execute_result"
    }
   ],
   "source": [
    "inner_user_id = my_train_dataset.to_inner_uid(1) # find the inner representation of user 1\n",
    "user_profile = U[inner_user_id]\n",
    "user_profile"
   ]
  },
  {
   "cell_type": "code",
   "execution_count": 54,
   "metadata": {},
   "outputs": [
    {
     "data": {
      "image/png": "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\n",
      "text/plain": [
       "<Figure size 1080x504 with 1 Axes>"
      ]
     },
     "metadata": {
      "needs_background": "light"
     },
     "output_type": "display_data"
    }
   ],
   "source": [
    "plt.figure(figsize=(15, 7))\n",
    "plt.barh([f'Latent Var{i}' for i in range(1,len(first_movie)+1)], user_profile)\n",
    "plt.title(\"Latent Variable Profile of User #1\")\n",
    "plt.ylabel(\"Latent Variable\")\n",
    "plt.xlabel(\"Value\")\n",
    "plt.show()"
   ]
  },
  {
   "cell_type": "markdown",
   "metadata": {},
   "source": [
    "Then, we grab the movie profile"
   ]
  },
  {
   "cell_type": "code",
   "execution_count": 55,
   "metadata": {},
   "outputs": [
    {
     "data": {
      "text/plain": [
       "array([-0.2418437 ,  0.09195909, -0.87287478, -0.83483407,  1.03405798,\n",
       "        0.61366233, -0.25088145, -1.2794349 ,  0.69291136, -0.42777809])"
      ]
     },
     "execution_count": 55,
     "metadata": {},
     "output_type": "execute_result"
    }
   ],
   "source": [
    "inner_movie_id = my_train_dataset.to_inner_iid(2) # find the inner representation of item 1\n",
    "movie_profile = M[:, inner_movie_id]\n",
    "movie_profile"
   ]
  },
  {
   "cell_type": "code",
   "execution_count": 56,
   "metadata": {},
   "outputs": [
    {
     "data": {
      "image/png": "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\n",
      "text/plain": [
       "<Figure size 1080x504 with 1 Axes>"
      ]
     },
     "metadata": {
      "needs_background": "light"
     },
     "output_type": "display_data"
    }
   ],
   "source": [
    "plt.figure(figsize=(15, 7))\n",
    "plt.barh([f'Latent Var{i}' for i in range(1,len(first_movie)+1)], movie_profile)\n",
    "plt.title(\"Latent Variable Profile of Movie #2\")\n",
    "plt.ylabel(\"Latent Variable\")\n",
    "plt.xlabel(\"Value\")\n",
    "plt.show()"
   ]
  },
  {
   "cell_type": "markdown",
   "metadata": {},
   "source": [
    "Our expected rating of this movie by this user is the dot product of these two profiles:"
   ]
  },
  {
   "cell_type": "code",
   "execution_count": 57,
   "metadata": {},
   "outputs": [
    {
     "data": {
      "text/plain": [
       "2.78796813012194"
      ]
     },
     "execution_count": 57,
     "metadata": {},
     "output_type": "execute_result"
    }
   ],
   "source": [
    "expected_rating = np.dot(user_profile, movie_profile)\n",
    "expected_rating"
   ]
  },
  {
   "cell_type": "markdown",
   "metadata": {},
   "source": [
    "In reality, our ratings will get better and better as we use more latent variables. However, too many latent variables and we might be overfitting."
   ]
  },
  {
   "cell_type": "markdown",
   "metadata": {},
   "source": [
    "#### Matrix Factorization Review\n",
    "\n",
    "The matrix factorization methods treat the rating prediction problem as an optimization problem. They try to optimize two matrices which combine to form the observed ratings. \n",
    "\n",
    "An added benefit the provide is creating profiles of user and movies that can be inspect to find underlying trends. Like all optimization methods we saw, these methods come with a set of hyperparameters to adjust:\n",
    "\n",
    "* **epochs**: Number of iterations the algorithm runs for. \n",
    "* **learning rate**: The speed at which the algorithm learns. Larger values give faster learning, but smaller values give more accurate learning. In `surprise`, you can adjust a global learning rate, or a learning rate per matrix.\n",
    "* **number of factors**: The number of latent factors the algorithm attempts to learn. More factors can give better results, but can also lead to overfitting"
   ]
  },
  {
   "cell_type": "markdown",
   "metadata": {
    "colab_type": "text",
    "id": "GCHgnWriMpI6"
   },
   "source": [
    "### Recommender Systems Evaluation\n",
    "\n",
    "How do we evaluate the quality of our predictions and recommendations? Is there a standard metric used in practice? First we need to settle on what are we evaluating:\n",
    "- is it the score we fill into the user-item matrix?\n",
    "- is it the actual list of recommended items?\n",
    "- is it the utility of the recommended items (did it prompt user engagement)?\n",
    "\n",
    "To compare true and predicted scores, we often use the *root mean square error* (RMSE):\n",
    "\n",
    "$$\\sqrt{\\frac{1}{n}\\sum_{ij}(R_{ij}-\\hat R_{ij})^2}$$\n",
    "\n",
    "Here, $n$ stands for the number of scores and $\\hat R_{ij}$ is our prediction for the actual score $R_{ij}$. This seems like a reasonable measure, it's basically a regression measure, but is it any good? There are a few problems with it:\n",
    "\n",
    "1. **It can only measure the accuracy on user-item pairs we have data for.** What if our system makes a recommendation for a previously unseen item, which it really should be doing, how do we evaluate this? Are the reviews on seen items correlated with the reviews on unseen items?\n",
    "2. **Does an increase in performance (lower RMSE) imply an increase in revenue?** The end goal of the system is to increase user interaction and revenue, but do better score predictions mean more money? Intuitively it seems like suggesting products a user likes should increase money but there is no hard evidence backing this up.\n",
    "3. **Different users rank movies on different, often personal scales**: using the same 1-10 scale, some people never give too harsh scores while others submit only highly polarized reviews. This difference often hinders regression metrics to capture the real performance of a recommender system. This can be addressed though by scaling each user's recommendation before modeling.\n",
    "\n",
    "The `surprise` package implements RMSE and a few other evaluation metrics:"
   ]
  },
  {
   "cell_type": "code",
   "execution_count": 58,
   "metadata": {},
   "outputs": [],
   "source": [
    "from surprise import accuracy\n",
    "from surprise.model_selection import train_test_split\n",
    "\n",
    "# The surprise package doesn't allow you to test on the trainset we built\n",
    "my_train_dataset, my_test_dataset = train_test_split(my_dataset, test_size=0.5)\n",
    "\n",
    "predictions = my_algorithm.test(my_test_dataset)"
   ]
  },
  {
   "cell_type": "code",
   "execution_count": 59,
   "metadata": {},
   "outputs": [
    {
     "name": "stdout",
     "output_type": "stream",
     "text": [
      "1.0612589034890898\n"
     ]
    }
   ],
   "source": [
    "# RMSE\n",
    "RMSE = accuracy.rmse(predictions, verbose=False)\n",
    "print(RMSE)"
   ]
  },
  {
   "cell_type": "markdown",
   "metadata": {},
   "source": [
    "Similar to RMSE, it is quite common to evaluate the *mean squared error* (MSE)\n",
    "\n",
    "$$\\frac{1}{n}\\sum_{ij}(R_{ij}-\\hat R_{ij})^2$$\n",
    "\n",
    "or *mean absolute error* (MAE) \n",
    "\n",
    "\n",
    "$$\\frac{1}{n}\\sum_{ij}|R_{ij}-\\hat R_{ij}|$$\n",
    "\n",
    "which penalize small versus large score deviations differently."
   ]
  },
  {
   "cell_type": "code",
   "execution_count": 60,
   "metadata": {},
   "outputs": [
    {
     "name": "stdout",
     "output_type": "stream",
     "text": [
      "1.1262704602348652\n"
     ]
    }
   ],
   "source": [
    "# MSE\n",
    "MSE = accuracy.mse(predictions, verbose=False)\n",
    "print(MSE)"
   ]
  },
  {
   "cell_type": "code",
   "execution_count": 61,
   "metadata": {},
   "outputs": [
    {
     "name": "stdout",
     "output_type": "stream",
     "text": [
      "0.8172584920458948\n"
     ]
    }
   ],
   "source": [
    "# MAE\n",
    "MAE = accuracy.mae(predictions, verbose=False)\n",
    "print(MAE)"
   ]
  },
  {
   "cell_type": "markdown",
   "metadata": {},
   "source": [
    "The problem with regression metrics is that they assume a numeric score, which is often not the case with recommender systems which can be built on various user-platform interactions. A useful **ranking-based metric** that overcomes this issue is the *Fraction of Concordant Pairs* (FCP).\n",
    "A *concordant pair of ratings* is composed of two pairs of true and predicted ratings $(r_{1}, \\hat{r}_1)$ and $(r_{2}, \\hat{r}_2)$ so that \n",
    "\n",
    "$$r_1 > r_2 \\text{ implies }\\hat r_1 > \\hat r_2$$\n",
    "\n",
    "and\n",
    "\n",
    "\n",
    "$$r_2 > r_1 \\text{ implies }\\hat r_2 > \\hat r_1.$$\n",
    "\n",
    "That is, the predicted and true ratings agree which of Movie 1 and Movie 2 was better (no matter their actual scores). Now, FCP is the ratio of concordant rating pairs to all rating pairs. Hence, the FCP ranges between the best score 1 and worst score 0. In many cases, a metric like this captures user intent better as it discounts for people using different scales for rating movies."
   ]
  },
  {
   "cell_type": "code",
   "execution_count": 62,
   "metadata": {},
   "outputs": [
    {
     "name": "stdout",
     "output_type": "stream",
     "text": [
      "0.6972761224092787\n"
     ]
    }
   ],
   "source": [
    "# FCP - Fraction of Concordant Pairs, the fraction of pairs whose relative ranking order is correct\n",
    "\n",
    "FCP = accuracy.fcp(predictions, verbose=False)\n",
    "print(FCP) "
   ]
  },
  {
   "cell_type": "markdown",
   "metadata": {},
   "source": [
    "The performance of recommender systems are often **evaluated by usage** that is, how many of the predicted items prompt the user to interaction (clicking on a recommended movie). In turn, one can use classification metrics (accuracy, precision, recall) to see what percentage of our recommendations resulted in user interaction. Such an evaluation is only possible in an online setting where we can test our system with live users but could tell us more about the actual business impact of the recommendations.\n",
    "\n",
    "\n",
    "You can dive deep into various evaluation techniques and the many angles of measuring recommender system performance in [this article from Microsoft](http://www.bgu.ac.il/~shanigu/Publications/EvaluationMetrics.17.pdf)."
   ]
  },
  {
   "cell_type": "markdown",
   "metadata": {},
   "source": [
    "#### (BONUS) Exercise 2\n",
    "\n",
    "Try and increase the number of latent factors and create a test plot with the evaluation metric of your choice."
   ]
  },
  {
   "cell_type": "markdown",
   "metadata": {},
   "source": [
    "#### Solutions"
   ]
  },
  {
   "cell_type": "markdown",
   "metadata": {},
   "source": [
    "We will fit the `FunkSVD` model with a varying number of factors and check the corresponding FCP score:"
   ]
  },
  {
   "cell_type": "code",
   "execution_count": 65,
   "metadata": {},
   "outputs": [
    {
     "name": "stdout",
     "output_type": "stream",
     "text": [
      "CPU times: user 7min 17s, sys: 2.57 s, total: 7min 20s\n",
      "Wall time: 7min 26s\n"
     ]
    }
   ],
   "source": [
    "%%time\n",
    "my_train_dataset, my_test_dataset = train_test_split(my_dataset, test_size=0.2)\n",
    "\n",
    "fcps = []\n",
    "factors = range(10, 201, 5)\n",
    "for n_factors in factors:    \n",
    "    my_algorithm = FunkSVD(n_factors=n_factors, \n",
    "                           n_epochs=50, \n",
    "                           lr_all=0.1,    # Learning rate for each epoch\n",
    "                           biased=False,  # This forces the algorithm to store all latent information in the matrices\n",
    "                           verbose=0)\n",
    "    \n",
    "    my_algorithm.fit(my_train_dataset)\n",
    "    predictions = my_algorithm.test(my_test_dataset)\n",
    "    \n",
    "    FCP = accuracy.fcp(predictions, verbose=False)\n",
    "    fcps.append(FCP)\n",
    "    print(n_factors, end=\"\\r\")"
   ]
  },
  {
   "cell_type": "code",
   "execution_count": 66,
   "metadata": {},
   "outputs": [
    {
     "data": {
      "image/png": "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\n",
      "text/plain": [
       "<Figure size 1080x504 with 1 Axes>"
      ]
     },
     "metadata": {
      "needs_background": "light"
     },
     "output_type": "display_data"
    }
   ],
   "source": [
    "plt.figure(figsize=(15, 7))\n",
    "plt.plot(factors, fcps)\n",
    "plt.xlabel(\"Latent Factor Number\")\n",
    "plt.ylabel(\"Fraction of Concordant Pairs\")\n",
    "plt.title(\"Fraction for Concordant Pairs for Various Numbers of Latent Factors\")\n",
    "plt.show()"
   ]
  },
  {
   "cell_type": "markdown",
   "metadata": {},
   "source": [
    "We can see that there is some gain to increase the number of factors all the way up to 125 or so but there is a steep drop after 180 factors."
   ]
  },
  {
   "cell_type": "markdown",
   "metadata": {
    "colab_type": "text",
    "id": "ZhKhPvFyMpIx"
   },
   "source": [
    "### Hybrid Methods\n",
    "\n",
    "Most recommendation systems in production are actually hybrid systems: these methods combine various models when making their decision averaging scores and ranks from multiple models. These models could range from collaborative filtering and matrix factorization to deep neural networks that predict scores. This is essentially running an ensemble method and one of the most famous code competitions, the [Netflix Prize](https://en.wikipedia.org/wiki/Netflix_Prize) was won by such an ensemble too. "
   ]
  },
  {
   "cell_type": "markdown",
   "metadata": {
    "colab_type": "text",
    "id": "MrKInJcxMpI-"
   },
   "source": [
    "### Stale Recommendations and Time Sensitivity\n",
    "\n",
    "If we don't update our model frequently then we're going to end up with *stale recommendations*. What we recommended last month may need to be changed for the current month: a user might have read a lot of self-help books last year but hasn't recently. \n",
    "\n",
    "Streaming services use the most recent user interactions, a suddenly closed movie or skipped track, to reorder their playlists in real time. Since a complete retraining of models is often not feasible computationally, there are various techniques to update model predictions with recent context for fresh recommendations. *Incremental learning* can allow updates for CF and matrix factorization models to update their parameters as new data is recorded. One can also assign weights to historical ratings which allows newer ratings to effect more the recommendations."
   ]
  },
  {
   "cell_type": "markdown",
   "metadata": {
    "colab_type": "text",
    "id": "JCA_qyF1MpJB"
   },
   "source": [
    "### Cold Start\n",
    "\n",
    "One major issue with collaborative filtering is how do we deal with a new user with no information about them. This is also a problem with no agreed upon solution, but many heuristic based solutions. Let's say we're Netflix and we need to make recommendations to a new user:\n",
    "\n",
    "1. We could provide them with some basic recommendations and after they view enough movies, we start to provide them with content and collaborative based recommendations.\n",
    "2. We could craft some predefined classes of new users. These could be hand crafted based on our knowledge, say action movie fans, comedy fans, etc... These classes would have some recommendations associated with them. Once we have a few data points for a new user we make recommendations based on these classes and after enough data points we start making recommendations based on collaborative or content models.\n",
    "3. These predefined classes for new users could be learned. We could preform unsupervised clustering of users to learn of \"natural\" groups. Once we have enough initial data points, we can assign the new user to their class as before and make recommendations based on this.\n",
    "4. We could have users fill out a simple survey and group them into initial classes based on this.\n",
    "\n",
    "All of these are reasonable approaches but it's hard to say which works the best, there is no hard science to this, only trying what seems reasonable.\n",
    "\n",
    "\n",
    "----"
   ]
  },
  {
   "cell_type": "markdown",
   "metadata": {},
   "source": [
    "<div id=\"container\" style=\"position:relative;\">\n",
    "<div style=\"position:relative; float:right\"><img style=\"height:25px\"\"width: 50px\" src =\"https://drive.google.com/uc?export=view&id=14VoXUJftgptWtdNhtNYVm6cjVmEWpki1\" />\n",
    "</div>\n",
    "</div>"
   ]
  }
 ],
 "metadata": {
  "colab": {
   "name": "Recommender Systems.ipynb",
   "provenance": [],
   "version": "0.3.2"
  },
  "hide_input": false,
  "kernelspec": {
   "display_name": "Python 3 (ipykernel)",
   "language": "python",
   "name": "python3"
  },
  "language_info": {
   "codemirror_mode": {
    "name": "ipython",
    "version": 3
   },
   "file_extension": ".py",
   "mimetype": "text/x-python",
   "name": "python",
   "nbconvert_exporter": "python",
   "pygments_lexer": "ipython3",
   "version": "3.9.12"
  }
 },
 "nbformat": 4,
 "nbformat_minor": 4
}
